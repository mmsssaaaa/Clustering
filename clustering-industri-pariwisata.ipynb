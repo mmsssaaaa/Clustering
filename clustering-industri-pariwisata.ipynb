{
 "cells": [
  {
   "cell_type": "markdown",
   "id": "23db4d65",
   "metadata": {
    "papermill": {
     "duration": 0.056041,
     "end_time": "2022-04-16T08:51:53.118164",
     "exception": false,
     "start_time": "2022-04-16T08:51:53.062123",
     "status": "completed"
    },
    "tags": []
   },
   "source": [
    "# Import Libraries\n",
    "Libraries yang dibutuhkan untuk melakukan Clustering"
   ]
  },
  {
   "cell_type": "code",
   "execution_count": null,
   "id": "b58b1e5c",
   "metadata": {
    "execution": {
     "iopub.execute_input": "2022-04-16T04:08:18.453098Z",
     "iopub.status.busy": "2022-04-16T04:08:18.451771Z",
     "iopub.status.idle": "2022-04-16T04:08:27.320997Z",
     "shell.execute_reply": "2022-04-16T04:08:27.319783Z",
     "shell.execute_reply.started": "2022-04-16T04:08:18.453013Z"
    },
    "papermill": {
     "duration": null,
     "end_time": null,
     "exception": false,
     "start_time": "2022-04-16T08:51:53.174981",
     "status": "running"
    },
    "tags": []
   },
   "outputs": [],
   "source": [
    "import pandas as pd \n",
    "import numpy as np\n",
    "\n",
    "#library untuk melakukan pengolahan file Excel\n",
    "!pip install openpyxl\n",
    "\n",
    "import matplotlib.pyplot as plt\n",
    "import seaborn as sns\n",
    "from matplotlib.colors import ListedColormap\n",
    "%matplotlib inline\n",
    "from scipy import stats"
   ]
  },
  {
   "cell_type": "markdown",
   "id": "e1e3fba8",
   "metadata": {
    "papermill": {
     "duration": null,
     "end_time": null,
     "exception": null,
     "start_time": null,
     "status": "pending"
    },
    "tags": []
   },
   "source": [
    "# Data Understanding\n",
    "Dataset yang digunakan dalam Clustering ini adalah data rasio keuangan dari Industri Hotel, Restoran, dan Pariwisata tahun 2021 yang tercatat di Bursa Efek Indonesia.\n",
    "\n",
    "3 variabel yang digunakan antara lain :\n",
    "* **Debt to Equity ratio (DER)**, \n",
    "* **Return on Asset (ROA)**, dan \n",
    "* **Sales Growth.** \n",
    "\n",
    "Tahap pra-pengolahan data dilakukan dengan menggunakan Ms. Excel."
   ]
  },
  {
   "cell_type": "markdown",
   "id": "b35eca29",
   "metadata": {
    "papermill": {
     "duration": null,
     "end_time": null,
     "exception": null,
     "start_time": null,
     "status": "pending"
    },
    "tags": []
   },
   "source": [
    "> # 1. Exploratory Data Analysis\n",
    "> > # 1.1 Load Data\n",
    "Melakukan pembacaan data Excel"
   ]
  },
  {
   "cell_type": "code",
   "execution_count": null,
   "id": "90667c6d",
   "metadata": {
    "execution": {
     "iopub.execute_input": "2022-04-16T04:08:27.323932Z",
     "iopub.status.busy": "2022-04-16T04:08:27.323583Z",
     "iopub.status.idle": "2022-04-16T04:08:27.377583Z",
     "shell.execute_reply": "2022-04-16T04:08:27.376905Z",
     "shell.execute_reply.started": "2022-04-16T04:08:27.323882Z"
    },
    "papermill": {
     "duration": null,
     "end_time": null,
     "exception": null,
     "start_time": null,
     "status": "pending"
    },
    "tags": []
   },
   "outputs": [],
   "source": [
    "df0 = pd.read_excel('../input/industri/data-emiten.xlsx')\n",
    "df0.info()"
   ]
  },
  {
   "cell_type": "markdown",
   "id": "f63fcbec",
   "metadata": {
    "papermill": {
     "duration": null,
     "end_time": null,
     "exception": null,
     "start_time": null,
     "status": "pending"
    },
    "tags": []
   },
   "source": [
    "> > # 1.2 Memeriksa nilai null"
   ]
  },
  {
   "cell_type": "code",
   "execution_count": null,
   "id": "dd5dddd5",
   "metadata": {
    "execution": {
     "iopub.execute_input": "2022-04-16T04:08:27.379892Z",
     "iopub.status.busy": "2022-04-16T04:08:27.379639Z",
     "iopub.status.idle": "2022-04-16T04:08:27.387913Z",
     "shell.execute_reply": "2022-04-16T04:08:27.387174Z",
     "shell.execute_reply.started": "2022-04-16T04:08:27.379861Z"
    },
    "papermill": {
     "duration": null,
     "end_time": null,
     "exception": null,
     "start_time": null,
     "status": "pending"
    },
    "tags": []
   },
   "outputs": [],
   "source": [
    "print(df0.isna().sum())"
   ]
  },
  {
   "cell_type": "markdown",
   "id": "9c8bc3a3",
   "metadata": {
    "papermill": {
     "duration": null,
     "end_time": null,
     "exception": null,
     "start_time": null,
     "status": "pending"
    },
    "tags": []
   },
   "source": [
    "> > # 1.3 Mengganti nilai null dengan 0"
   ]
  },
  {
   "cell_type": "code",
   "execution_count": null,
   "id": "630f6b68",
   "metadata": {
    "execution": {
     "iopub.execute_input": "2022-04-16T04:08:27.390250Z",
     "iopub.status.busy": "2022-04-16T04:08:27.389572Z",
     "iopub.status.idle": "2022-04-16T04:08:27.401474Z",
     "shell.execute_reply": "2022-04-16T04:08:27.400803Z",
     "shell.execute_reply.started": "2022-04-16T04:08:27.390201Z"
    },
    "papermill": {
     "duration": null,
     "end_time": null,
     "exception": null,
     "start_time": null,
     "status": "pending"
    },
    "tags": []
   },
   "outputs": [],
   "source": [
    "df0.fillna(0, inplace=True)"
   ]
  },
  {
   "cell_type": "markdown",
   "id": "d0820d7a",
   "metadata": {
    "papermill": {
     "duration": null,
     "end_time": null,
     "exception": null,
     "start_time": null,
     "status": "pending"
    },
    "tags": []
   },
   "source": [
    "> > # 1.4 Deskripsi Data"
   ]
  },
  {
   "cell_type": "code",
   "execution_count": null,
   "id": "2003a2ef",
   "metadata": {
    "execution": {
     "iopub.execute_input": "2022-04-16T04:08:27.403815Z",
     "iopub.status.busy": "2022-04-16T04:08:27.402968Z",
     "iopub.status.idle": "2022-04-16T04:08:27.434253Z",
     "shell.execute_reply": "2022-04-16T04:08:27.433636Z",
     "shell.execute_reply.started": "2022-04-16T04:08:27.403781Z"
    },
    "papermill": {
     "duration": null,
     "end_time": null,
     "exception": null,
     "start_time": null,
     "status": "pending"
    },
    "tags": []
   },
   "outputs": [],
   "source": [
    "df0.describe()"
   ]
  },
  {
   "cell_type": "markdown",
   "id": "2c59531f",
   "metadata": {
    "papermill": {
     "duration": null,
     "end_time": null,
     "exception": null,
     "start_time": null,
     "status": "pending"
    },
    "tags": []
   },
   "source": [
    "> # 1.5 Data Cleansing\n",
    "> Drop kolom yang tidak dipakai untuk penentuan Scatter Plot"
   ]
  },
  {
   "cell_type": "code",
   "execution_count": null,
   "id": "0461b201",
   "metadata": {
    "execution": {
     "iopub.execute_input": "2022-04-16T04:08:27.436047Z",
     "iopub.status.busy": "2022-04-16T04:08:27.435285Z",
     "iopub.status.idle": "2022-04-16T04:08:27.442196Z",
     "shell.execute_reply": "2022-04-16T04:08:27.441575Z",
     "shell.execute_reply.started": "2022-04-16T04:08:27.435998Z"
    },
    "papermill": {
     "duration": null,
     "end_time": null,
     "exception": null,
     "start_time": null,
     "status": "pending"
    },
    "tags": []
   },
   "outputs": [],
   "source": [
    "df0.drop(['Category'], axis=1, inplace=True)"
   ]
  },
  {
   "cell_type": "markdown",
   "id": "8c88794c",
   "metadata": {
    "papermill": {
     "duration": null,
     "end_time": null,
     "exception": null,
     "start_time": null,
     "status": "pending"
    },
    "tags": []
   },
   "source": [
    "> # 1.6 Scatter Plot"
   ]
  },
  {
   "cell_type": "code",
   "execution_count": null,
   "id": "d1cd229c",
   "metadata": {
    "execution": {
     "iopub.execute_input": "2022-04-16T04:08:27.443938Z",
     "iopub.status.busy": "2022-04-16T04:08:27.443416Z",
     "iopub.status.idle": "2022-04-16T04:08:29.473380Z",
     "shell.execute_reply": "2022-04-16T04:08:29.471874Z",
     "shell.execute_reply.started": "2022-04-16T04:08:27.443898Z"
    },
    "papermill": {
     "duration": null,
     "end_time": null,
     "exception": null,
     "start_time": null,
     "status": "pending"
    },
    "tags": []
   },
   "outputs": [],
   "source": [
    "plt.figure(figsize=(15, 15))\n",
    "sns.pairplot(df0, vars = df0.columns[1:13]);"
   ]
  },
  {
   "cell_type": "markdown",
   "id": "e6198afa",
   "metadata": {
    "papermill": {
     "duration": null,
     "end_time": null,
     "exception": null,
     "start_time": null,
     "status": "pending"
    },
    "tags": []
   },
   "source": [
    "# 2. Clustering\n",
    "> > # 2.1 Load Data"
   ]
  },
  {
   "cell_type": "code",
   "execution_count": null,
   "id": "47894428",
   "metadata": {
    "execution": {
     "iopub.execute_input": "2022-04-16T04:08:29.475016Z",
     "iopub.status.busy": "2022-04-16T04:08:29.474783Z",
     "iopub.status.idle": "2022-04-16T04:08:29.518725Z",
     "shell.execute_reply": "2022-04-16T04:08:29.518062Z",
     "shell.execute_reply.started": "2022-04-16T04:08:29.474988Z"
    },
    "papermill": {
     "duration": null,
     "end_time": null,
     "exception": null,
     "start_time": null,
     "status": "pending"
    },
    "tags": []
   },
   "outputs": [],
   "source": [
    "df0 = pd.read_excel('../input/industri/data-emiten.xlsx')\n",
    "df1 = df0[['DER (X)','Return On Asset','Sales Growth','Category']]\n",
    "df1.describe()"
   ]
  },
  {
   "cell_type": "code",
   "execution_count": null,
   "id": "bbe4763a",
   "metadata": {
    "execution": {
     "iopub.execute_input": "2022-04-16T04:08:29.520491Z",
     "iopub.status.busy": "2022-04-16T04:08:29.519682Z",
     "iopub.status.idle": "2022-04-16T04:08:29.916274Z",
     "shell.execute_reply": "2022-04-16T04:08:29.915242Z",
     "shell.execute_reply.started": "2022-04-16T04:08:29.520457Z"
    },
    "papermill": {
     "duration": null,
     "end_time": null,
     "exception": null,
     "start_time": null,
     "status": "pending"
    },
    "tags": []
   },
   "outputs": [],
   "source": [
    "plt.figure(figsize=(18, 4))\n",
    "plt.xticks(rotation=45)\n",
    "sns.scatterplot(x='Emiten', y='Return On Asset', \n",
    "                data=df0, s=80)"
   ]
  },
  {
   "cell_type": "code",
   "execution_count": null,
   "id": "de3dbede",
   "metadata": {
    "execution": {
     "iopub.execute_input": "2022-04-16T04:08:29.919423Z",
     "iopub.status.busy": "2022-04-16T04:08:29.919150Z",
     "iopub.status.idle": "2022-04-16T04:08:30.317440Z",
     "shell.execute_reply": "2022-04-16T04:08:30.316571Z",
     "shell.execute_reply.started": "2022-04-16T04:08:29.919380Z"
    },
    "papermill": {
     "duration": null,
     "end_time": null,
     "exception": null,
     "start_time": null,
     "status": "pending"
    },
    "tags": []
   },
   "outputs": [],
   "source": [
    "plt.figure(figsize=(18, 4))\n",
    "plt.xticks(rotation=45)\n",
    "sns.scatterplot(x='Emiten', y='DER (X)', \n",
    "                data=df0, s=80)"
   ]
  },
  {
   "cell_type": "code",
   "execution_count": null,
   "id": "f7105fad",
   "metadata": {
    "execution": {
     "iopub.execute_input": "2022-04-16T04:08:30.319442Z",
     "iopub.status.busy": "2022-04-16T04:08:30.318783Z",
     "iopub.status.idle": "2022-04-16T04:08:30.687195Z",
     "shell.execute_reply": "2022-04-16T04:08:30.686338Z",
     "shell.execute_reply.started": "2022-04-16T04:08:30.319403Z"
    },
    "papermill": {
     "duration": null,
     "end_time": null,
     "exception": null,
     "start_time": null,
     "status": "pending"
    },
    "tags": []
   },
   "outputs": [],
   "source": [
    "plt.figure(figsize=(18, 4))\n",
    "plt.xticks(rotation=45)\n",
    "sns.scatterplot(x='Emiten', y='Sales Growth', \n",
    "                data=df0, s=80)"
   ]
  },
  {
   "cell_type": "markdown",
   "id": "1d662ca1",
   "metadata": {
    "papermill": {
     "duration": null,
     "end_time": null,
     "exception": null,
     "start_time": null,
     "status": "pending"
    },
    "tags": []
   },
   "source": [
    "> > # 2.2 Outlier\n",
    "> Menghapus Outlier menggunakan z-score"
   ]
  },
  {
   "cell_type": "code",
   "execution_count": null,
   "id": "cf4df1ce",
   "metadata": {
    "execution": {
     "iopub.execute_input": "2022-04-16T04:08:30.688836Z",
     "iopub.status.busy": "2022-04-16T04:08:30.688578Z",
     "iopub.status.idle": "2022-04-16T04:08:30.702885Z",
     "shell.execute_reply": "2022-04-16T04:08:30.701865Z",
     "shell.execute_reply.started": "2022-04-16T04:08:30.688809Z"
    },
    "papermill": {
     "duration": null,
     "end_time": null,
     "exception": null,
     "start_time": null,
     "status": "pending"
    },
    "tags": []
   },
   "outputs": [],
   "source": [
    "print(f'Jumlah baris sebelum memfilter outlier: {len(df1)}')\n",
    "\n",
    "filtered_entries = np.array([False] * len(df1))\n",
    "for col in ['Return On Asset']:\n",
    "    zscore = abs(stats.zscore(df1[col]))\n",
    "    filtered_entries = (zscore < 3) | filtered_entries\n",
    "    \n",
    "df1 = df1[filtered_entries]\n",
    "\n",
    "print(f'Jumlah baris setelah memfilter outlier: {len(df1)}')"
   ]
  },
  {
   "cell_type": "code",
   "execution_count": null,
   "id": "f68da087",
   "metadata": {
    "execution": {
     "iopub.execute_input": "2022-04-16T04:08:30.704801Z",
     "iopub.status.busy": "2022-04-16T04:08:30.704505Z",
     "iopub.status.idle": "2022-04-16T04:08:30.735932Z",
     "shell.execute_reply": "2022-04-16T04:08:30.735037Z",
     "shell.execute_reply.started": "2022-04-16T04:08:30.704765Z"
    },
    "papermill": {
     "duration": null,
     "end_time": null,
     "exception": null,
     "start_time": null,
     "status": "pending"
    },
    "tags": []
   },
   "outputs": [],
   "source": [
    "df1.describe()"
   ]
  },
  {
   "cell_type": "markdown",
   "id": "a2437741",
   "metadata": {
    "papermill": {
     "duration": null,
     "end_time": null,
     "exception": null,
     "start_time": null,
     "status": "pending"
    },
    "tags": []
   },
   "source": [
    "> > # 2.3 Standardisasi Fitur\n",
    "> Melakukan normalisasi data menggunakan Standard Scaler"
   ]
  },
  {
   "cell_type": "code",
   "execution_count": null,
   "id": "31b952b1",
   "metadata": {
    "execution": {
     "iopub.execute_input": "2022-04-16T04:08:30.737896Z",
     "iopub.status.busy": "2022-04-16T04:08:30.737593Z",
     "iopub.status.idle": "2022-04-16T04:08:30.767898Z",
     "shell.execute_reply": "2022-04-16T04:08:30.767032Z",
     "shell.execute_reply.started": "2022-04-16T04:08:30.737854Z"
    },
    "papermill": {
     "duration": null,
     "end_time": null,
     "exception": null,
     "start_time": null,
     "status": "pending"
    },
    "tags": []
   },
   "outputs": [],
   "source": [
    "feats = ['DER (X)','Return On Asset','Sales Growth']\n",
    "X = df1[feats].values\n",
    "y = df1['Category'].values\n",
    "\n",
    "from sklearn.preprocessing import StandardScaler\n",
    "X_std = StandardScaler().fit_transform(X)\n",
    "new_df = pd.DataFrame(data = X_std, columns = feats)\n",
    "new_df.describe()"
   ]
  },
  {
   "cell_type": "markdown",
   "id": "4c47a229",
   "metadata": {
    "papermill": {
     "duration": null,
     "end_time": null,
     "exception": null,
     "start_time": null,
     "status": "pending"
    },
    "tags": []
   },
   "source": [
    "> > # 2.4 Mencari nilai k (elbow point)\n",
    "> Mencari berapakah nilai k (elbow point) yang paling optimal untuk melakukan Clustering"
   ]
  },
  {
   "cell_type": "code",
   "execution_count": null,
   "id": "f1470d25",
   "metadata": {
    "execution": {
     "iopub.execute_input": "2022-04-16T04:08:30.769749Z",
     "iopub.status.busy": "2022-04-16T04:08:30.769413Z",
     "iopub.status.idle": "2022-04-16T04:08:41.711708Z",
     "shell.execute_reply": "2022-04-16T04:08:41.711013Z",
     "shell.execute_reply.started": "2022-04-16T04:08:30.769718Z"
    },
    "papermill": {
     "duration": null,
     "end_time": null,
     "exception": null,
     "start_time": null,
     "status": "pending"
    },
    "tags": []
   },
   "outputs": [],
   "source": [
    "from sklearn.cluster import KMeans\n",
    "inertia = []\n",
    "\n",
    "for i in range(1, 32):\n",
    "  kmeans = KMeans(n_clusters=i, init='k-means++', max_iter=300, n_init=10, random_state=0)\n",
    "  kmeans.fit(new_df.values)\n",
    "  inertia.append(kmeans.inertia_)\n",
    "\n",
    "plt.figure(figsize=(12, 6))\n",
    "plt.plot(inertia) #Elbow Method"
   ]
  },
  {
   "cell_type": "markdown",
   "id": "b163c180",
   "metadata": {
    "papermill": {
     "duration": null,
     "end_time": null,
     "exception": null,
     "start_time": null,
     "status": "pending"
    },
    "tags": []
   },
   "source": [
    "> > Ternyata clustering paling optimal di 5 cluster (n_cluster = 5)"
   ]
  },
  {
   "cell_type": "markdown",
   "id": "87eef856",
   "metadata": {
    "papermill": {
     "duration": null,
     "end_time": null,
     "exception": null,
     "start_time": null,
     "status": "pending"
    },
    "tags": []
   },
   "source": [
    "> > # 2.5 Lakukan K-means, k = 5"
   ]
  },
  {
   "cell_type": "code",
   "execution_count": null,
   "id": "1fb001ba",
   "metadata": {
    "execution": {
     "iopub.execute_input": "2022-04-16T04:08:41.713866Z",
     "iopub.status.busy": "2022-04-16T04:08:41.713115Z",
     "iopub.status.idle": "2022-04-16T04:08:41.753653Z",
     "shell.execute_reply": "2022-04-16T04:08:41.752799Z",
     "shell.execute_reply.started": "2022-04-16T04:08:41.713818Z"
    },
    "papermill": {
     "duration": null,
     "end_time": null,
     "exception": null,
     "start_time": null,
     "status": "pending"
    },
    "tags": []
   },
   "outputs": [],
   "source": [
    "from sklearn.cluster import KMeans\n",
    "kmeans = KMeans(n_clusters=5, init='k-means++', max_iter=300, n_init=10, random_state=0)\n",
    "kmeans.fit(new_df.values)"
   ]
  },
  {
   "cell_type": "code",
   "execution_count": null,
   "id": "63592565",
   "metadata": {
    "execution": {
     "iopub.execute_input": "2022-04-16T04:08:41.763705Z",
     "iopub.status.busy": "2022-04-16T04:08:41.759370Z",
     "iopub.status.idle": "2022-04-16T04:08:41.770625Z",
     "shell.execute_reply": "2022-04-16T04:08:41.769652Z",
     "shell.execute_reply.started": "2022-04-16T04:08:41.763646Z"
    },
    "papermill": {
     "duration": null,
     "end_time": null,
     "exception": null,
     "start_time": null,
     "status": "pending"
    },
    "tags": []
   },
   "outputs": [],
   "source": [
    "new_df['target'] = y\n",
    "new_df['fit'] = kmeans.labels_"
   ]
  },
  {
   "cell_type": "markdown",
   "id": "09e6a795",
   "metadata": {
    "papermill": {
     "duration": null,
     "end_time": null,
     "exception": null,
     "start_time": null,
     "status": "pending"
    },
    "tags": []
   },
   "source": [
    "> > # 2.6 Plot Cluster"
   ]
  },
  {
   "cell_type": "code",
   "execution_count": null,
   "id": "5f1fbbe2",
   "metadata": {
    "execution": {
     "iopub.execute_input": "2022-04-16T04:08:41.772940Z",
     "iopub.status.busy": "2022-04-16T04:08:41.772438Z",
     "iopub.status.idle": "2022-04-16T04:08:41.968475Z",
     "shell.execute_reply": "2022-04-16T04:08:41.967613Z",
     "shell.execute_reply.started": "2022-04-16T04:08:41.772894Z"
    },
    "papermill": {
     "duration": null,
     "end_time": null,
     "exception": null,
     "start_time": null,
     "status": "pending"
    },
    "tags": []
   },
   "outputs": [],
   "source": [
    "plt.rcParams[\"figure.figsize\"] = (8, 8)\n",
    "sns.scatterplot(x='DER (X)', y='Return On Asset', hue=new_df.target.to_list(), data=new_df);"
   ]
  },
  {
   "cell_type": "code",
   "execution_count": null,
   "id": "559b2dbd",
   "metadata": {
    "execution": {
     "iopub.execute_input": "2022-04-16T04:08:41.970672Z",
     "iopub.status.busy": "2022-04-16T04:08:41.970169Z",
     "iopub.status.idle": "2022-04-16T04:08:41.984965Z",
     "shell.execute_reply": "2022-04-16T04:08:41.984003Z",
     "shell.execute_reply.started": "2022-04-16T04:08:41.970626Z"
    },
    "papermill": {
     "duration": null,
     "end_time": null,
     "exception": null,
     "start_time": null,
     "status": "pending"
    },
    "tags": []
   },
   "outputs": [],
   "source": [
    "new_df.head(5)"
   ]
  },
  {
   "cell_type": "markdown",
   "id": "e2d38426",
   "metadata": {
    "papermill": {
     "duration": null,
     "end_time": null,
     "exception": null,
     "start_time": null,
     "status": "pending"
    },
    "tags": []
   },
   "source": [
    "> > Mencocokan nilai fit dengan Category untuk membuat indikator warna yang benar. "
   ]
  },
  {
   "cell_type": "code",
   "execution_count": null,
   "id": "d9493e04",
   "metadata": {
    "execution": {
     "iopub.execute_input": "2022-04-16T04:08:41.986743Z",
     "iopub.status.busy": "2022-04-16T04:08:41.986287Z",
     "iopub.status.idle": "2022-04-16T04:08:42.007002Z",
     "shell.execute_reply": "2022-04-16T04:08:42.006433Z",
     "shell.execute_reply.started": "2022-04-16T04:08:41.986707Z"
    },
    "papermill": {
     "duration": null,
     "end_time": null,
     "exception": null,
     "start_time": null,
     "status": "pending"
    },
    "tags": []
   },
   "outputs": [],
   "source": [
    "new_df.insert(0,\"Category\",np.nan,True)\n",
    "new_df.loc[new_df['fit'] == 0, 'Category'] = 2\n",
    "new_df.loc[new_df['fit'] == 1, 'Category'] = 4\n",
    "new_df.loc[new_df['fit'] == 2, 'Category'] = 1\n",
    "new_df.loc[new_df['fit'] == 3, 'Category'] = 0\n",
    "new_df.loc[new_df['fit'] == 4, 'Category'] = 3\n",
    "new_df['Category'] = new_df['Category'].astype(int)\n",
    "new_df.head(5)"
   ]
  },
  {
   "cell_type": "markdown",
   "id": "107c36f3",
   "metadata": {
    "papermill": {
     "duration": null,
     "end_time": null,
     "exception": null,
     "start_time": null,
     "status": "pending"
    },
    "tags": []
   },
   "source": [
    "> > Menyesuaikan nama kolom menjadi (St.) = Standardized"
   ]
  },
  {
   "cell_type": "code",
   "execution_count": null,
   "id": "a5ccd0a1",
   "metadata": {
    "execution": {
     "iopub.execute_input": "2022-04-16T04:08:42.008636Z",
     "iopub.status.busy": "2022-04-16T04:08:42.008241Z",
     "iopub.status.idle": "2022-04-16T04:08:42.021374Z",
     "shell.execute_reply": "2022-04-16T04:08:42.020762Z",
     "shell.execute_reply.started": "2022-04-16T04:08:42.008590Z"
    },
    "papermill": {
     "duration": null,
     "end_time": null,
     "exception": null,
     "start_time": null,
     "status": "pending"
    },
    "tags": []
   },
   "outputs": [],
   "source": [
    "new_df.drop([\"fit\",\"target\"], axis=1, inplace=True)\n",
    "new_df.columns = ['Category','DER (St.)','Return On Asset (St.)', 'Sales Growth (St.)']\n",
    "new_df.info()"
   ]
  },
  {
   "cell_type": "markdown",
   "id": "63440279",
   "metadata": {
    "papermill": {
     "duration": null,
     "end_time": null,
     "exception": null,
     "start_time": null,
     "status": "pending"
    },
    "tags": []
   },
   "source": [
    "> > > # 2.6.1 3D Scatter Plot"
   ]
  },
  {
   "cell_type": "code",
   "execution_count": null,
   "id": "5d2167f3",
   "metadata": {
    "execution": {
     "iopub.execute_input": "2022-04-16T04:08:42.023062Z",
     "iopub.status.busy": "2022-04-16T04:08:42.022669Z",
     "iopub.status.idle": "2022-04-16T04:08:42.312259Z",
     "shell.execute_reply": "2022-04-16T04:08:42.310715Z",
     "shell.execute_reply.started": "2022-04-16T04:08:42.023013Z"
    },
    "papermill": {
     "duration": null,
     "end_time": null,
     "exception": null,
     "start_time": null,
     "status": "pending"
    },
    "tags": []
   },
   "outputs": [],
   "source": [
    "from mpl_toolkits.mplot3d import Axes3D\n",
    "\n",
    "fig = plt.figure()\n",
    "ax = fig.add_subplot(111, projection = '3d')\n",
    "\n",
    "\n",
    "x = new_df['DER (St.)']\n",
    "y = new_df['Return On Asset (St.)']\n",
    "z = new_df['Sales Growth (St.)']\n",
    "\n",
    "ax.set_xlabel(\"DER (St.)\")\n",
    "ax.set_ylabel(\"Return On Asset (St.)\")\n",
    "ax.set_zlabel(\"Sales Growth (St.)\")\n",
    "\n",
    "cmap = ListedColormap(sns.color_palette(\"RdYlGn\", 256).as_hex())\n",
    "\n",
    "sc = ax.scatter(x, y, z, s=40, c=new_df['Category'], marker='o', cmap=cmap, alpha=1)\n",
    "plt.legend(*sc.legend_elements(), bbox_to_anchor=(1.05, 1), loc=2)\n",
    "\n",
    "plt.show()"
   ]
  },
  {
   "cell_type": "markdown",
   "id": "443f2958",
   "metadata": {
    "papermill": {
     "duration": null,
     "end_time": null,
     "exception": null,
     "start_time": null,
     "status": "pending"
    },
    "tags": []
   },
   "source": [
    "> > > # 2.6.2 2D Scatter Plot (X vs Z View)"
   ]
  },
  {
   "cell_type": "code",
   "execution_count": null,
   "id": "19c762af",
   "metadata": {
    "execution": {
     "iopub.execute_input": "2022-04-16T04:08:42.313726Z",
     "iopub.status.busy": "2022-04-16T04:08:42.313486Z",
     "iopub.status.idle": "2022-04-16T04:08:42.601461Z",
     "shell.execute_reply": "2022-04-16T04:08:42.600365Z",
     "shell.execute_reply.started": "2022-04-16T04:08:42.313698Z"
    },
    "papermill": {
     "duration": null,
     "end_time": null,
     "exception": null,
     "start_time": null,
     "status": "pending"
    },
    "tags": []
   },
   "outputs": [],
   "source": [
    "# color palette as dictionary\n",
    "palette = {0:\"tab:red\",\n",
    "           1:\"tab:orange\", \n",
    "           2:\"yellow\",\n",
    "           3:\"lime\",\n",
    "           4:\"darkgreen\"}\n",
    "\n",
    "sns.scatterplot(x='DER (St.)', y='Sales Growth (St.)', \n",
    "                hue='Category', data=new_df, s=80,\n",
    "                palette=palette)\n",
    "plt.title(\"DER vs Sales Growth (Standardisasi)\", fontsize=18, y=1.05)\n",
    "plt.show()"
   ]
  },
  {
   "cell_type": "markdown",
   "id": "cda2b783",
   "metadata": {
    "papermill": {
     "duration": null,
     "end_time": null,
     "exception": null,
     "start_time": null,
     "status": "pending"
    },
    "tags": []
   },
   "source": [
    "> > > # 2.6.3 2D Scatter Plot (Y vs Z View)"
   ]
  },
  {
   "cell_type": "code",
   "execution_count": null,
   "id": "932f71ed",
   "metadata": {
    "execution": {
     "iopub.execute_input": "2022-04-16T04:08:42.603277Z",
     "iopub.status.busy": "2022-04-16T04:08:42.602954Z",
     "iopub.status.idle": "2022-04-16T04:08:42.910645Z",
     "shell.execute_reply": "2022-04-16T04:08:42.909637Z",
     "shell.execute_reply.started": "2022-04-16T04:08:42.603234Z"
    },
    "papermill": {
     "duration": null,
     "end_time": null,
     "exception": null,
     "start_time": null,
     "status": "pending"
    },
    "tags": []
   },
   "outputs": [],
   "source": [
    "sns.scatterplot(x='Return On Asset (St.)', y='Sales Growth (St.)', \n",
    "                hue='Category', data=new_df, s=80,\n",
    "                palette=palette)\n",
    "plt.title(\"Return On Asset vs Sales Growth (Standardisasi)\", fontsize=18, y=1.05)\n",
    "plt.show()"
   ]
  },
  {
   "cell_type": "markdown",
   "id": "47a9276a",
   "metadata": {
    "papermill": {
     "duration": null,
     "end_time": null,
     "exception": null,
     "start_time": null,
     "status": "pending"
    },
    "tags": []
   },
   "source": [
    "> > > # 2.6.4 2D Scatter Plot (X vs Y View)"
   ]
  },
  {
   "cell_type": "code",
   "execution_count": null,
   "id": "a12ea25f",
   "metadata": {
    "execution": {
     "iopub.execute_input": "2022-04-16T04:08:42.912513Z",
     "iopub.status.busy": "2022-04-16T04:08:42.912184Z",
     "iopub.status.idle": "2022-04-16T04:08:43.211800Z",
     "shell.execute_reply": "2022-04-16T04:08:43.210868Z",
     "shell.execute_reply.started": "2022-04-16T04:08:42.912468Z"
    },
    "papermill": {
     "duration": null,
     "end_time": null,
     "exception": null,
     "start_time": null,
     "status": "pending"
    },
    "tags": []
   },
   "outputs": [],
   "source": [
    "sns.scatterplot(x='DER (St.)', y='Return On Asset (St.)', \n",
    "                hue='Category', data=new_df, s=80,\n",
    "                palette=palette)\n",
    "plt.title(\"DER vs Return On Asset (Standardisasi)\", fontsize=18, y=1.05)\n",
    "plt.show()"
   ]
  },
  {
   "cell_type": "markdown",
   "id": "fc6c568c",
   "metadata": {
    "papermill": {
     "duration": null,
     "end_time": null,
     "exception": null,
     "start_time": null,
     "status": "pending"
    },
    "tags": []
   },
   "source": [
    "# 3. Export Result\n",
    "Drop kolom yang tidak digunakan pada dataset Awal **(df0).**"
   ]
  },
  {
   "cell_type": "code",
   "execution_count": null,
   "id": "c17b111a",
   "metadata": {
    "execution": {
     "iopub.execute_input": "2022-04-16T04:08:43.214025Z",
     "iopub.status.busy": "2022-04-16T04:08:43.213706Z",
     "iopub.status.idle": "2022-04-16T04:08:43.220579Z",
     "shell.execute_reply": "2022-04-16T04:08:43.219636Z",
     "shell.execute_reply.started": "2022-04-16T04:08:43.213979Z"
    },
    "papermill": {
     "duration": null,
     "end_time": null,
     "exception": null,
     "start_time": null,
     "status": "pending"
    },
    "tags": []
   },
   "outputs": [],
   "source": [
    "df0.drop(['Category'], axis=1, inplace=True)"
   ]
  },
  {
   "cell_type": "markdown",
   "id": "fa6793c3",
   "metadata": {
    "papermill": {
     "duration": null,
     "end_time": null,
     "exception": null,
     "start_time": null,
     "status": "pending"
    },
    "tags": []
   },
   "source": [
    "Gabungkan dataset List Emiten Pariwisata **(dftemp)**, Result **(new_df)**, dan dataset Awal **(df0)** ke dalam satu dataframe. "
   ]
  },
  {
   "cell_type": "code",
   "execution_count": null,
   "id": "2af1a781",
   "metadata": {
    "execution": {
     "iopub.execute_input": "2022-04-16T04:08:43.222197Z",
     "iopub.status.busy": "2022-04-16T04:08:43.221946Z",
     "iopub.status.idle": "2022-04-16T04:08:43.264167Z",
     "shell.execute_reply": "2022-04-16T04:08:43.263587Z",
     "shell.execute_reply.started": "2022-04-16T04:08:43.222167Z"
    },
    "papermill": {
     "duration": null,
     "end_time": null,
     "exception": null,
     "start_time": null,
     "status": "pending"
    },
    "tags": []
   },
   "outputs": [],
   "source": [
    "dftemp = pd.read_excel('../input/industri/pariwisata-list.xlsx')\n",
    "df = pd.concat([dftemp, new_df, df0], axis=1)\n",
    "df.head(5)"
   ]
  },
  {
   "cell_type": "markdown",
   "id": "b0bad44c",
   "metadata": {
    "papermill": {
     "duration": null,
     "end_time": null,
     "exception": null,
     "start_time": null,
     "status": "pending"
    },
    "tags": []
   },
   "source": [
    "> # 3.1 Export hasil ke Excel"
   ]
  },
  {
   "cell_type": "code",
   "execution_count": null,
   "id": "aa7dae63",
   "metadata": {
    "execution": {
     "iopub.execute_input": "2022-04-16T04:08:43.268069Z",
     "iopub.status.busy": "2022-04-16T04:08:43.267824Z",
     "iopub.status.idle": "2022-04-16T04:08:43.315812Z",
     "shell.execute_reply": "2022-04-16T04:08:43.315152Z",
     "shell.execute_reply.started": "2022-04-16T04:08:43.268038Z"
    },
    "papermill": {
     "duration": null,
     "end_time": null,
     "exception": null,
     "start_time": null,
     "status": "pending"
    },
    "tags": []
   },
   "outputs": [],
   "source": [
    "# membuat objek excel writer\n",
    "writer = pd.ExcelWriter('output.xlsx')\n",
    "\n",
    "# menulis dataframe ke Excel\n",
    "df.to_excel(writer)\n",
    "\n",
    "# menyimpan file Excel\n",
    "writer.save()\n",
    "print('DataFrame is written successfully to Excel File.')"
   ]
  },
  {
   "cell_type": "markdown",
   "id": "3b35f78b",
   "metadata": {
    "papermill": {
     "duration": null,
     "end_time": null,
     "exception": null,
     "start_time": null,
     "status": "pending"
    },
    "tags": []
   },
   "source": [
    "# 4. Get Centroid\n",
    "> # 4.1 Jumlah populasi dari setiap Centroid"
   ]
  },
  {
   "cell_type": "code",
   "execution_count": null,
   "id": "3f8001e9",
   "metadata": {
    "execution": {
     "iopub.execute_input": "2022-04-16T04:08:43.317654Z",
     "iopub.status.busy": "2022-04-16T04:08:43.316907Z",
     "iopub.status.idle": "2022-04-16T04:08:43.355811Z",
     "shell.execute_reply": "2022-04-16T04:08:43.354717Z",
     "shell.execute_reply.started": "2022-04-16T04:08:43.317618Z"
    },
    "papermill": {
     "duration": null,
     "end_time": null,
     "exception": null,
     "start_time": null,
     "status": "pending"
    },
    "tags": []
   },
   "outputs": [],
   "source": [
    "clusters = kmeans.fit_predict(X_std)\n",
    "unique_elements, counts_elements = np.unique(clusters, return_counts=True)\n",
    "print(\"Frequency of unique values of the said array:\")\n",
    "print(np.asarray((unique_elements, counts_elements)))"
   ]
  },
  {
   "cell_type": "markdown",
   "id": "abe91e90",
   "metadata": {
    "papermill": {
     "duration": null,
     "end_time": null,
     "exception": null,
     "start_time": null,
     "status": "pending"
    },
    "tags": []
   },
   "source": [
    "> # 4.2 Letak Centroid pada setiap Cluster"
   ]
  },
  {
   "cell_type": "code",
   "execution_count": null,
   "id": "62728f34",
   "metadata": {
    "execution": {
     "iopub.execute_input": "2022-04-16T04:08:43.357632Z",
     "iopub.status.busy": "2022-04-16T04:08:43.357056Z",
     "iopub.status.idle": "2022-04-16T04:08:43.367805Z",
     "shell.execute_reply": "2022-04-16T04:08:43.366248Z",
     "shell.execute_reply.started": "2022-04-16T04:08:43.357597Z"
    },
    "papermill": {
     "duration": null,
     "end_time": null,
     "exception": null,
     "start_time": null,
     "status": "pending"
    },
    "tags": []
   },
   "outputs": [],
   "source": [
    "kmeans.cluster_centers_"
   ]
  },
  {
   "cell_type": "markdown",
   "id": "b31235d5",
   "metadata": {
    "papermill": {
     "duration": null,
     "end_time": null,
     "exception": null,
     "start_time": null,
     "status": "pending"
    },
    "tags": []
   },
   "source": [
    "# 5. Cluster Description\n",
    "> # 5.1 Cluster yang terdampak Sangat Negatif"
   ]
  },
  {
   "cell_type": "code",
   "execution_count": null,
   "id": "09675eda",
   "metadata": {
    "execution": {
     "iopub.execute_input": "2022-04-16T04:08:43.369926Z",
     "iopub.status.busy": "2022-04-16T04:08:43.369340Z",
     "iopub.status.idle": "2022-04-16T04:08:43.378593Z",
     "shell.execute_reply": "2022-04-16T04:08:43.377881Z",
     "shell.execute_reply.started": "2022-04-16T04:08:43.369890Z"
    },
    "papermill": {
     "duration": null,
     "end_time": null,
     "exception": null,
     "start_time": null,
     "status": "pending"
    },
    "tags": []
   },
   "outputs": [],
   "source": [
    "#Highly Negatively Impacted\n",
    "df[df['Category'] == 4].shape"
   ]
  },
  {
   "cell_type": "code",
   "execution_count": null,
   "id": "d62c79bd",
   "metadata": {
    "execution": {
     "iopub.execute_input": "2022-04-16T04:08:43.380498Z",
     "iopub.status.busy": "2022-04-16T04:08:43.379938Z",
     "iopub.status.idle": "2022-04-16T04:08:43.401951Z",
     "shell.execute_reply": "2022-04-16T04:08:43.401199Z",
     "shell.execute_reply.started": "2022-04-16T04:08:43.380465Z"
    },
    "papermill": {
     "duration": null,
     "end_time": null,
     "exception": null,
     "start_time": null,
     "status": "pending"
    },
    "tags": []
   },
   "outputs": [],
   "source": [
    "display(df[df['Category'] == 4])"
   ]
  },
  {
   "cell_type": "markdown",
   "id": "5d6f8e8a",
   "metadata": {
    "papermill": {
     "duration": null,
     "end_time": null,
     "exception": null,
     "start_time": null,
     "status": "pending"
    },
    "tags": []
   },
   "source": [
    "> # 5.2 Cluster yang terdampak Negatif"
   ]
  },
  {
   "cell_type": "code",
   "execution_count": null,
   "id": "76071455",
   "metadata": {
    "execution": {
     "iopub.execute_input": "2022-04-16T04:08:43.403797Z",
     "iopub.status.busy": "2022-04-16T04:08:43.403109Z",
     "iopub.status.idle": "2022-04-16T04:08:43.417615Z",
     "shell.execute_reply": "2022-04-16T04:08:43.416847Z",
     "shell.execute_reply.started": "2022-04-16T04:08:43.403765Z"
    },
    "papermill": {
     "duration": null,
     "end_time": null,
     "exception": null,
     "start_time": null,
     "status": "pending"
    },
    "tags": []
   },
   "outputs": [],
   "source": [
    "#Negatively Impacted\n",
    "df[df['Category'] == 3].shape"
   ]
  },
  {
   "cell_type": "code",
   "execution_count": null,
   "id": "0828d241",
   "metadata": {
    "execution": {
     "iopub.execute_input": "2022-04-16T04:08:43.419447Z",
     "iopub.status.busy": "2022-04-16T04:08:43.418974Z",
     "iopub.status.idle": "2022-04-16T04:08:43.442594Z",
     "shell.execute_reply": "2022-04-16T04:08:43.441413Z",
     "shell.execute_reply.started": "2022-04-16T04:08:43.419410Z"
    },
    "papermill": {
     "duration": null,
     "end_time": null,
     "exception": null,
     "start_time": null,
     "status": "pending"
    },
    "tags": []
   },
   "outputs": [],
   "source": [
    "display(df[df['Category'] == 3])"
   ]
  },
  {
   "cell_type": "markdown",
   "id": "a520dff3",
   "metadata": {
    "papermill": {
     "duration": null,
     "end_time": null,
     "exception": null,
     "start_time": null,
     "status": "pending"
    },
    "tags": []
   },
   "source": [
    "> # 5.3 Cluster yang tidak terdampak (Netral)"
   ]
  },
  {
   "cell_type": "code",
   "execution_count": null,
   "id": "cdb8f4bf",
   "metadata": {
    "execution": {
     "iopub.execute_input": "2022-04-16T04:08:43.444331Z",
     "iopub.status.busy": "2022-04-16T04:08:43.444104Z",
     "iopub.status.idle": "2022-04-16T04:08:43.451714Z",
     "shell.execute_reply": "2022-04-16T04:08:43.450776Z",
     "shell.execute_reply.started": "2022-04-16T04:08:43.444303Z"
    },
    "papermill": {
     "duration": null,
     "end_time": null,
     "exception": null,
     "start_time": null,
     "status": "pending"
    },
    "tags": []
   },
   "outputs": [],
   "source": [
    "#Neutral Impacted\n",
    "df[df['Category'] == 2].shape"
   ]
  },
  {
   "cell_type": "code",
   "execution_count": null,
   "id": "05082fe6",
   "metadata": {
    "execution": {
     "iopub.execute_input": "2022-04-16T04:08:43.454468Z",
     "iopub.status.busy": "2022-04-16T04:08:43.453328Z",
     "iopub.status.idle": "2022-04-16T04:08:43.484225Z",
     "shell.execute_reply": "2022-04-16T04:08:43.483506Z",
     "shell.execute_reply.started": "2022-04-16T04:08:43.454419Z"
    },
    "papermill": {
     "duration": null,
     "end_time": null,
     "exception": null,
     "start_time": null,
     "status": "pending"
    },
    "tags": []
   },
   "outputs": [],
   "source": [
    "display(df[df['Category'] == 2])"
   ]
  },
  {
   "cell_type": "markdown",
   "id": "c63eccd9",
   "metadata": {
    "papermill": {
     "duration": null,
     "end_time": null,
     "exception": null,
     "start_time": null,
     "status": "pending"
    },
    "tags": []
   },
   "source": [
    "> # 5.4 Cluster yang terdampak Positif"
   ]
  },
  {
   "cell_type": "code",
   "execution_count": null,
   "id": "8223db19",
   "metadata": {
    "execution": {
     "iopub.execute_input": "2022-04-16T04:08:43.486319Z",
     "iopub.status.busy": "2022-04-16T04:08:43.485498Z",
     "iopub.status.idle": "2022-04-16T04:08:43.492849Z",
     "shell.execute_reply": "2022-04-16T04:08:43.492150Z",
     "shell.execute_reply.started": "2022-04-16T04:08:43.486284Z"
    },
    "papermill": {
     "duration": null,
     "end_time": null,
     "exception": null,
     "start_time": null,
     "status": "pending"
    },
    "tags": []
   },
   "outputs": [],
   "source": [
    "#Positively Impacted\n",
    "df[df['Category'] == 1].shape"
   ]
  },
  {
   "cell_type": "code",
   "execution_count": null,
   "id": "6517a264",
   "metadata": {
    "execution": {
     "iopub.execute_input": "2022-04-16T04:08:43.494491Z",
     "iopub.status.busy": "2022-04-16T04:08:43.494175Z",
     "iopub.status.idle": "2022-04-16T04:08:43.519621Z",
     "shell.execute_reply": "2022-04-16T04:08:43.518994Z",
     "shell.execute_reply.started": "2022-04-16T04:08:43.494460Z"
    },
    "papermill": {
     "duration": null,
     "end_time": null,
     "exception": null,
     "start_time": null,
     "status": "pending"
    },
    "tags": []
   },
   "outputs": [],
   "source": [
    "display(df[df['Category'] == 1])"
   ]
  },
  {
   "cell_type": "markdown",
   "id": "c4892a8b",
   "metadata": {
    "papermill": {
     "duration": null,
     "end_time": null,
     "exception": null,
     "start_time": null,
     "status": "pending"
    },
    "tags": []
   },
   "source": [
    "> # 5.5 Cluster yang terdampak Sangat Positif"
   ]
  },
  {
   "cell_type": "code",
   "execution_count": null,
   "id": "63848886",
   "metadata": {
    "execution": {
     "iopub.execute_input": "2022-04-16T04:08:43.521266Z",
     "iopub.status.busy": "2022-04-16T04:08:43.520539Z",
     "iopub.status.idle": "2022-04-16T04:08:43.529396Z",
     "shell.execute_reply": "2022-04-16T04:08:43.528608Z",
     "shell.execute_reply.started": "2022-04-16T04:08:43.521227Z"
    },
    "papermill": {
     "duration": null,
     "end_time": null,
     "exception": null,
     "start_time": null,
     "status": "pending"
    },
    "tags": []
   },
   "outputs": [],
   "source": [
    "#Highly Positively Impacted\n",
    "df[df['Category'] == 0].shape"
   ]
  },
  {
   "cell_type": "code",
   "execution_count": null,
   "id": "fc9edef8",
   "metadata": {
    "execution": {
     "iopub.execute_input": "2022-04-16T04:08:43.531226Z",
     "iopub.status.busy": "2022-04-16T04:08:43.530714Z",
     "iopub.status.idle": "2022-04-16T04:08:43.553255Z",
     "shell.execute_reply": "2022-04-16T04:08:43.552628Z",
     "shell.execute_reply.started": "2022-04-16T04:08:43.531182Z"
    },
    "papermill": {
     "duration": null,
     "end_time": null,
     "exception": null,
     "start_time": null,
     "status": "pending"
    },
    "tags": []
   },
   "outputs": [],
   "source": [
    "display(df[df['Category'] == 0])"
   ]
  }
 ],
 "metadata": {
  "kernelspec": {
   "display_name": "Python 3",
   "language": "python",
   "name": "python3"
  },
  "language_info": {
   "codemirror_mode": {
    "name": "ipython",
    "version": 3
   },
   "file_extension": ".py",
   "mimetype": "text/x-python",
   "name": "python",
   "nbconvert_exporter": "python",
   "pygments_lexer": "ipython3",
   "version": "3.6.4"
  },
  "papermill": {
   "default_parameters": {},
   "duration": null,
   "end_time": null,
   "environment_variables": {},
   "exception": null,
   "input_path": "__notebook__.ipynb",
   "output_path": "__notebook__.ipynb",
   "parameters": {},
   "start_time": "2022-04-16T08:51:43.844369",
   "version": "2.3.3"
  }
 },
 "nbformat": 4,
 "nbformat_minor": 5
}