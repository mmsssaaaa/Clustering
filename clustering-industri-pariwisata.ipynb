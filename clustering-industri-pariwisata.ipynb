{
 "cells": [
  {
   "cell_type": "markdown",
   "id": "6d009dc5",
   "metadata": {
    "papermill": {
     "duration": 0.059996,
     "end_time": "2022-04-17T21:42:51.917197",
     "exception": false,
     "start_time": "2022-04-17T21:42:51.857201",
     "status": "completed"
    },
    "tags": []
   },
   "source": [
    "# Import Libraries\n",
    "Libraries yang dibutuhkan untuk melakukan Clustering\n",
    "***"
   ]
  },
  {
   "cell_type": "code",
   "execution_count": 1,
   "id": "fae4fd82",
   "metadata": {
    "execution": {
     "iopub.execute_input": "2022-04-17T21:42:52.046608Z",
     "iopub.status.busy": "2022-04-17T21:42:52.045649Z",
     "iopub.status.idle": "2022-04-17T21:43:04.347801Z",
     "shell.execute_reply": "2022-04-17T21:43:04.348387Z",
     "shell.execute_reply.started": "2022-04-17T21:40:18.704480Z"
    },
    "papermill": {
     "duration": 12.370892,
     "end_time": "2022-04-17T21:43:04.348724",
     "exception": false,
     "start_time": "2022-04-17T21:42:51.977832",
     "status": "completed"
    },
    "tags": []
   },
   "outputs": [
    {
     "name": "stdout",
     "output_type": "stream",
     "text": [
      "Collecting openpyxl\r\n",
      "  Downloading openpyxl-3.0.9-py2.py3-none-any.whl (242 kB)\r\n",
      "     |████████████████████████████████| 242 kB 5.0 MB/s            \r\n",
      "\u001b[?25hCollecting et-xmlfile\r\n",
      "  Downloading et_xmlfile-1.1.0-py3-none-any.whl (4.7 kB)\r\n",
      "Installing collected packages: et-xmlfile, openpyxl\r\n",
      "Successfully installed et-xmlfile-1.1.0 openpyxl-3.0.9\r\n",
      "\u001b[33mWARNING: Running pip as the 'root' user can result in broken permissions and conflicting behaviour with the system package manager. It is recommended to use a virtual environment instead: https://pip.pypa.io/warnings/venv\u001b[0m\r\n"
     ]
    }
   ],
   "source": [
    "import pandas as pd \n",
    "import numpy as np\n",
    "\n",
    "#library untuk melakukan pengolahan file Excel\n",
    "!pip install openpyxl\n",
    "\n",
    "import matplotlib.pyplot as plt\n",
    "import seaborn as sns\n",
    "from matplotlib.colors import ListedColormap\n",
    "%matplotlib inline\n",
    "from scipy import stats"
   ]
  },
  {
   "cell_type": "markdown",
   "id": "15b9d779",
   "metadata": {
    "papermill": {
     "duration": 0.060004,
     "end_time": "2022-04-17T21:43:04.472470",
     "exception": false,
     "start_time": "2022-04-17T21:43:04.412466",
     "status": "completed"
    },
    "tags": []
   },
   "source": [
    "***\n",
    "# Data Understanding\n",
    "***\n",
    "Dataset yang digunakan dalam Clustering ini adalah data rasio keuangan dari Industri Hotel, Restoran, dan Pariwisata tahun 2021 yang tercatat di Bursa Efek Indonesia.\n",
    "\n",
    "3 variabel rasio keuangan yang digunakan antara lain :\n",
    "* **Debt to Equity ratio (DER)**, \n",
    "* **Return on Asset (ROA)**, dan \n",
    "* **Sales Growth.** \n",
    "\n",
    "Sumber data didapatkan dari laman Bursa Efek Indonesia [IDX Financial Data and Ratio - Q4 2021](https://www.idx.co.id/data-pasar/laporan-statistik/digital-statistic-beta/financial-data-ratio?q=eyJ5ZWFyIjoiMjAyMSIsIm1vbnRoIjpudWxsLCJxdWFydGVyIjo0LCJ0eXBlIjoieWVhcmx5In0=)  \n",
    "\n",
    "Tahap pra-pengolahan data dilakukan dengan menggunakan Ms. Excel."
   ]
  },
  {
   "cell_type": "markdown",
   "id": "667164f8",
   "metadata": {
    "papermill": {
     "duration": 0.060236,
     "end_time": "2022-04-17T21:43:04.593023",
     "exception": false,
     "start_time": "2022-04-17T21:43:04.532787",
     "status": "completed"
    },
    "tags": []
   },
   "source": [
    "***\n",
    "# 1. Exploratory Data Analysis\n",
    "***\n",
    "# 1.1 Load Data\n",
    "Melakukan pembacaan data Excel\n",
    "***"
   ]
  },
  {
   "cell_type": "code",
   "execution_count": 2,
   "id": "021b2b70",
   "metadata": {
    "execution": {
     "iopub.execute_input": "2022-04-17T21:43:04.720053Z",
     "iopub.status.busy": "2022-04-17T21:43:04.719271Z",
     "iopub.status.idle": "2022-04-17T21:43:04.988576Z",
     "shell.execute_reply": "2022-04-17T21:43:04.989145Z",
     "shell.execute_reply.started": "2022-04-17T21:40:28.711597Z"
    },
    "papermill": {
     "duration": 0.336116,
     "end_time": "2022-04-17T21:43:04.989328",
     "exception": false,
     "start_time": "2022-04-17T21:43:04.653212",
     "status": "completed"
    },
    "tags": []
   },
   "outputs": [
    {
     "name": "stdout",
     "output_type": "stream",
     "text": [
      "<class 'pandas.core.frame.DataFrame'>\n",
      "RangeIndex: 32 entries, 0 to 31\n",
      "Data columns (total 5 columns):\n",
      " #   Column           Non-Null Count  Dtype  \n",
      "---  ------           --------------  -----  \n",
      " 0   Emiten           32 non-null     object \n",
      " 1   DER (X)          32 non-null     float64\n",
      " 2   Return On Asset  32 non-null     float64\n",
      " 3   Sales Growth     32 non-null     float64\n",
      " 4   Category         0 non-null      float64\n",
      "dtypes: float64(4), object(1)\n",
      "memory usage: 1.4+ KB\n"
     ]
    }
   ],
   "source": [
    "df0 = pd.read_excel('../input/industri/data-emiten.xlsx')\n",
    "df0.info()"
   ]
  },
  {
   "cell_type": "markdown",
   "id": "5faca9a9",
   "metadata": {
    "papermill": {
     "duration": 0.061871,
     "end_time": "2022-04-17T21:43:05.112181",
     "exception": false,
     "start_time": "2022-04-17T21:43:05.050310",
     "status": "completed"
    },
    "tags": []
   },
   "source": [
    "***\n",
    "# 1.2 Memeriksa nilai null\n",
    "***"
   ]
  },
  {
   "cell_type": "code",
   "execution_count": 3,
   "id": "775b3be4",
   "metadata": {
    "execution": {
     "iopub.execute_input": "2022-04-17T21:43:05.243885Z",
     "iopub.status.busy": "2022-04-17T21:43:05.242984Z",
     "iopub.status.idle": "2022-04-17T21:43:05.246273Z",
     "shell.execute_reply": "2022-04-17T21:43:05.246806Z",
     "shell.execute_reply.started": "2022-04-17T21:40:28.756701Z"
    },
    "papermill": {
     "duration": 0.073488,
     "end_time": "2022-04-17T21:43:05.246991",
     "exception": false,
     "start_time": "2022-04-17T21:43:05.173503",
     "status": "completed"
    },
    "tags": []
   },
   "outputs": [
    {
     "name": "stdout",
     "output_type": "stream",
     "text": [
      "Emiten              0\n",
      "DER (X)             0\n",
      "Return On Asset     0\n",
      "Sales Growth        0\n",
      "Category           32\n",
      "dtype: int64\n"
     ]
    }
   ],
   "source": [
    "print(df0.isna().sum())"
   ]
  },
  {
   "cell_type": "markdown",
   "id": "1c9768ec",
   "metadata": {
    "papermill": {
     "duration": 0.062064,
     "end_time": "2022-04-17T21:43:05.370579",
     "exception": false,
     "start_time": "2022-04-17T21:43:05.308515",
     "status": "completed"
    },
    "tags": []
   },
   "source": [
    "***\n",
    "# 1.3 Mengganti nilai null dengan 0\n",
    "***"
   ]
  },
  {
   "cell_type": "code",
   "execution_count": 4,
   "id": "558f52e6",
   "metadata": {
    "execution": {
     "iopub.execute_input": "2022-04-17T21:43:05.499139Z",
     "iopub.status.busy": "2022-04-17T21:43:05.498405Z",
     "iopub.status.idle": "2022-04-17T21:43:05.500197Z",
     "shell.execute_reply": "2022-04-17T21:43:05.500781Z",
     "shell.execute_reply.started": "2022-04-17T21:40:28.768106Z"
    },
    "papermill": {
     "duration": 0.068793,
     "end_time": "2022-04-17T21:43:05.500950",
     "exception": false,
     "start_time": "2022-04-17T21:43:05.432157",
     "status": "completed"
    },
    "tags": []
   },
   "outputs": [],
   "source": [
    "df0.fillna(0, inplace=True)"
   ]
  },
  {
   "cell_type": "markdown",
   "id": "a5b55586",
   "metadata": {
    "papermill": {
     "duration": 0.060892,
     "end_time": "2022-04-17T21:43:05.623576",
     "exception": false,
     "start_time": "2022-04-17T21:43:05.562684",
     "status": "completed"
    },
    "tags": []
   },
   "source": [
    "***\n",
    "# 1.4 Deskripsi Data\n",
    "***"
   ]
  },
  {
   "cell_type": "code",
   "execution_count": 5,
   "id": "e6ea1ccb",
   "metadata": {
    "execution": {
     "iopub.execute_input": "2022-04-17T21:43:05.748811Z",
     "iopub.status.busy": "2022-04-17T21:43:05.748163Z",
     "iopub.status.idle": "2022-04-17T21:43:05.778508Z",
     "shell.execute_reply": "2022-04-17T21:43:05.779034Z",
     "shell.execute_reply.started": "2022-04-17T21:40:28.778240Z"
    },
    "papermill": {
     "duration": 0.094607,
     "end_time": "2022-04-17T21:43:05.779204",
     "exception": false,
     "start_time": "2022-04-17T21:43:05.684597",
     "status": "completed"
    },
    "tags": []
   },
   "outputs": [
    {
     "data": {
      "text/html": [
       "<div>\n",
       "<style scoped>\n",
       "    .dataframe tbody tr th:only-of-type {\n",
       "        vertical-align: middle;\n",
       "    }\n",
       "\n",
       "    .dataframe tbody tr th {\n",
       "        vertical-align: top;\n",
       "    }\n",
       "\n",
       "    .dataframe thead th {\n",
       "        text-align: right;\n",
       "    }\n",
       "</style>\n",
       "<table border=\"1\" class=\"dataframe\">\n",
       "  <thead>\n",
       "    <tr style=\"text-align: right;\">\n",
       "      <th></th>\n",
       "      <th>DER (X)</th>\n",
       "      <th>Return On Asset</th>\n",
       "      <th>Sales Growth</th>\n",
       "      <th>Category</th>\n",
       "    </tr>\n",
       "  </thead>\n",
       "  <tbody>\n",
       "    <tr>\n",
       "      <th>count</th>\n",
       "      <td>32.000000</td>\n",
       "      <td>32.000000</td>\n",
       "      <td>32.000000</td>\n",
       "      <td>32.0</td>\n",
       "    </tr>\n",
       "    <tr>\n",
       "      <th>mean</th>\n",
       "      <td>1.159688</td>\n",
       "      <td>-0.038750</td>\n",
       "      <td>-0.087338</td>\n",
       "      <td>0.0</td>\n",
       "    </tr>\n",
       "    <tr>\n",
       "      <th>std</th>\n",
       "      <td>1.514624</td>\n",
       "      <td>0.046887</td>\n",
       "      <td>0.428139</td>\n",
       "      <td>0.0</td>\n",
       "    </tr>\n",
       "    <tr>\n",
       "      <th>min</th>\n",
       "      <td>0.000000</td>\n",
       "      <td>-0.120000</td>\n",
       "      <td>-0.935965</td>\n",
       "      <td>0.0</td>\n",
       "    </tr>\n",
       "    <tr>\n",
       "      <th>25%</th>\n",
       "      <td>0.267500</td>\n",
       "      <td>-0.072500</td>\n",
       "      <td>-0.256105</td>\n",
       "      <td>0.0</td>\n",
       "    </tr>\n",
       "    <tr>\n",
       "      <th>50%</th>\n",
       "      <td>0.605000</td>\n",
       "      <td>-0.030000</td>\n",
       "      <td>-0.049366</td>\n",
       "      <td>0.0</td>\n",
       "    </tr>\n",
       "    <tr>\n",
       "      <th>75%</th>\n",
       "      <td>1.487500</td>\n",
       "      <td>0.000000</td>\n",
       "      <td>0.063764</td>\n",
       "      <td>0.0</td>\n",
       "    </tr>\n",
       "    <tr>\n",
       "      <th>max</th>\n",
       "      <td>7.410000</td>\n",
       "      <td>0.060000</td>\n",
       "      <td>1.465314</td>\n",
       "      <td>0.0</td>\n",
       "    </tr>\n",
       "  </tbody>\n",
       "</table>\n",
       "</div>"
      ],
      "text/plain": [
       "         DER (X)  Return On Asset  Sales Growth  Category\n",
       "count  32.000000        32.000000     32.000000      32.0\n",
       "mean    1.159688        -0.038750     -0.087338       0.0\n",
       "std     1.514624         0.046887      0.428139       0.0\n",
       "min     0.000000        -0.120000     -0.935965       0.0\n",
       "25%     0.267500        -0.072500     -0.256105       0.0\n",
       "50%     0.605000        -0.030000     -0.049366       0.0\n",
       "75%     1.487500         0.000000      0.063764       0.0\n",
       "max     7.410000         0.060000      1.465314       0.0"
      ]
     },
     "execution_count": 5,
     "metadata": {},
     "output_type": "execute_result"
    }
   ],
   "source": [
    "df0.describe()"
   ]
  },
  {
   "cell_type": "markdown",
   "id": "82d9e4c6",
   "metadata": {
    "papermill": {
     "duration": 0.062157,
     "end_time": "2022-04-17T21:43:05.903938",
     "exception": false,
     "start_time": "2022-04-17T21:43:05.841781",
     "status": "completed"
    },
    "tags": []
   },
   "source": [
    "***\n",
    "# 1.5 Data Cleansing\n",
    "Drop kolom yang tidak dipakai untuk penentuan Scatter Plot\n",
    "***"
   ]
  },
  {
   "cell_type": "code",
   "execution_count": 6,
   "id": "7a7bdb49",
   "metadata": {
    "execution": {
     "iopub.execute_input": "2022-04-17T21:43:06.031933Z",
     "iopub.status.busy": "2022-04-17T21:43:06.031306Z",
     "iopub.status.idle": "2022-04-17T21:43:06.035794Z",
     "shell.execute_reply": "2022-04-17T21:43:06.036323Z",
     "shell.execute_reply.started": "2022-04-17T21:40:28.816621Z"
    },
    "papermill": {
     "duration": 0.069503,
     "end_time": "2022-04-17T21:43:06.036492",
     "exception": false,
     "start_time": "2022-04-17T21:43:05.966989",
     "status": "completed"
    },
    "tags": []
   },
   "outputs": [],
   "source": [
    "df0.drop(['Category'], axis=1, inplace=True)"
   ]
  },
  {
   "cell_type": "markdown",
   "id": "ff618c54",
   "metadata": {
    "papermill": {
     "duration": 0.06205,
     "end_time": "2022-04-17T21:43:06.161056",
     "exception": false,
     "start_time": "2022-04-17T21:43:06.099006",
     "status": "completed"
    },
    "tags": []
   },
   "source": [
    "***\n",
    "# 1.6 Scatter Plot\n",
    "***"
   ]
  },
  {
   "cell_type": "code",
   "execution_count": 7,
   "id": "a1678c75",
   "metadata": {
    "execution": {
     "iopub.execute_input": "2022-04-17T21:43:06.289154Z",
     "iopub.status.busy": "2022-04-17T21:43:06.288133Z",
     "iopub.status.idle": "2022-04-17T21:43:08.419329Z",
     "shell.execute_reply": "2022-04-17T21:43:08.418538Z",
     "shell.execute_reply.started": "2022-04-17T21:40:28.825476Z"
    },
    "papermill": {
     "duration": 2.196741,
     "end_time": "2022-04-17T21:43:08.419498",
     "exception": false,
     "start_time": "2022-04-17T21:43:06.222757",
     "status": "completed"
    },
    "tags": []
   },
   "outputs": [
    {
     "data": {
      "text/plain": [
       "<Figure size 1080x1080 with 0 Axes>"
      ]
     },
     "metadata": {},
     "output_type": "display_data"
    },
    {
     "data": {
      "image/png": "[encoded data removed]",
      "text/plain": [
       "<Figure size 540x540 with 12 Axes>"
      ]
     },
     "metadata": {
      "needs_background": "light"
     },
     "output_type": "display_data"
    }
   ],
   "source": [
    "plt.figure(figsize=(15, 15))\n",
    "sns.pairplot(df0, vars = df0.columns[1:13]);"
   ]
  },
  {
   "cell_type": "markdown",
   "id": "19171533",
   "metadata": {
    "papermill": {
     "duration": 0.06327,
     "end_time": "2022-04-17T21:43:08.548022",
     "exception": false,
     "start_time": "2022-04-17T21:43:08.484752",
     "status": "completed"
    },
    "tags": []
   },
   "source": [
    "***\n",
    "# 2. Clustering\n",
    "***\n",
    "# 2.1 Load Data"
   ]
  },
  {
   "cell_type": "code",
   "execution_count": 8,
   "id": "9c6015e5",
   "metadata": {
    "execution": {
     "iopub.execute_input": "2022-04-17T21:43:08.683918Z",
     "iopub.status.busy": "2022-04-17T21:43:08.683287Z",
     "iopub.status.idle": "2022-04-17T21:43:08.723702Z",
     "shell.execute_reply": "2022-04-17T21:43:08.723014Z",
     "shell.execute_reply.started": "2022-04-17T21:40:31.606741Z"
    },
    "papermill": {
     "duration": 0.109287,
     "end_time": "2022-04-17T21:43:08.723862",
     "exception": false,
     "start_time": "2022-04-17T21:43:08.614575",
     "status": "completed"
    },
    "tags": []
   },
   "outputs": [
    {
     "data": {
      "text/html": [
       "<div>\n",
       "<style scoped>\n",
       "    .dataframe tbody tr th:only-of-type {\n",
       "        vertical-align: middle;\n",
       "    }\n",
       "\n",
       "    .dataframe tbody tr th {\n",
       "        vertical-align: top;\n",
       "    }\n",
       "\n",
       "    .dataframe thead th {\n",
       "        text-align: right;\n",
       "    }\n",
       "</style>\n",
       "<table border=\"1\" class=\"dataframe\">\n",
       "  <thead>\n",
       "    <tr style=\"text-align: right;\">\n",
       "      <th></th>\n",
       "      <th>DER (X)</th>\n",
       "      <th>Return On Asset</th>\n",
       "      <th>Sales Growth</th>\n",
       "      <th>Category</th>\n",
       "    </tr>\n",
       "  </thead>\n",
       "  <tbody>\n",
       "    <tr>\n",
       "      <th>count</th>\n",
       "      <td>32.000000</td>\n",
       "      <td>32.000000</td>\n",
       "      <td>32.000000</td>\n",
       "      <td>0.0</td>\n",
       "    </tr>\n",
       "    <tr>\n",
       "      <th>mean</th>\n",
       "      <td>1.159688</td>\n",
       "      <td>-0.038750</td>\n",
       "      <td>-0.087338</td>\n",
       "      <td>NaN</td>\n",
       "    </tr>\n",
       "    <tr>\n",
       "      <th>std</th>\n",
       "      <td>1.514624</td>\n",
       "      <td>0.046887</td>\n",
       "      <td>0.428139</td>\n",
       "      <td>NaN</td>\n",
       "    </tr>\n",
       "    <tr>\n",
       "      <th>min</th>\n",
       "      <td>0.000000</td>\n",
       "      <td>-0.120000</td>\n",
       "      <td>-0.935965</td>\n",
       "      <td>NaN</td>\n",
       "    </tr>\n",
       "    <tr>\n",
       "      <th>25%</th>\n",
       "      <td>0.267500</td>\n",
       "      <td>-0.072500</td>\n",
       "      <td>-0.256105</td>\n",
       "      <td>NaN</td>\n",
       "    </tr>\n",
       "    <tr>\n",
       "      <th>50%</th>\n",
       "      <td>0.605000</td>\n",
       "      <td>-0.030000</td>\n",
       "      <td>-0.049366</td>\n",
       "      <td>NaN</td>\n",
       "    </tr>\n",
       "    <tr>\n",
       "      <th>75%</th>\n",
       "      <td>1.487500</td>\n",
       "      <td>0.000000</td>\n",
       "      <td>0.063764</td>\n",
       "      <td>NaN</td>\n",
       "    </tr>\n",
       "    <tr>\n",
       "      <th>max</th>\n",
       "      <td>7.410000</td>\n",
       "      <td>0.060000</td>\n",
       "      <td>1.465314</td>\n",
       "      <td>NaN</td>\n",
       "    </tr>\n",
       "  </tbody>\n",
       "</table>\n",
       "</div>"
      ],
      "text/plain": [
       "         DER (X)  Return On Asset  Sales Growth  Category\n",
       "count  32.000000        32.000000     32.000000       0.0\n",
       "mean    1.159688        -0.038750     -0.087338       NaN\n",
       "std     1.514624         0.046887      0.428139       NaN\n",
       "min     0.000000        -0.120000     -0.935965       NaN\n",
       "25%     0.267500        -0.072500     -0.256105       NaN\n",
       "50%     0.605000        -0.030000     -0.049366       NaN\n",
       "75%     1.487500         0.000000      0.063764       NaN\n",
       "max     7.410000         0.060000      1.465314       NaN"
      ]
     },
     "execution_count": 8,
     "metadata": {},
     "output_type": "execute_result"
    }
   ],
   "source": [
    "df0 = pd.read_excel('../input/industri/data-emiten.xlsx')\n",
    "df1 = df0[['DER (X)','Return On Asset','Sales Growth','Category']]\n",
    "df1.describe()"
   ]
  },
  {
   "cell_type": "code",
   "execution_count": 9,
   "id": "a8752c31",
   "metadata": {
    "execution": {
     "iopub.execute_input": "2022-04-17T21:43:08.859773Z",
     "iopub.status.busy": "2022-04-17T21:43:08.859106Z",
     "iopub.status.idle": "2022-04-17T21:43:09.276502Z",
     "shell.execute_reply": "2022-04-17T21:43:09.276998Z",
     "shell.execute_reply.started": "2022-04-17T21:40:31.652905Z"
    },
    "papermill": {
     "duration": 0.487172,
     "end_time": "2022-04-17T21:43:09.277177",
     "exception": false,
     "start_time": "2022-04-17T21:43:08.790005",
     "status": "completed"
    },
    "tags": []
   },
   "outputs": [
    {
     "data": {
      "text/plain": [
       "<AxesSubplot:xlabel='Emiten', ylabel='Return On Asset'>"
      ]
     },
     "execution_count": 9,
     "metadata": {},
     "output_type": "execute_result"
    },
    {
     "data": {
      "image/png": "[encoded data removed]",
      "text/plain": [
       "<Figure size 1296x288 with 1 Axes>"
      ]
     },
     "metadata": {
      "needs_background": "light"
     },
     "output_type": "display_data"
    }
   ],
   "source": [
    "plt.figure(figsize=(18, 4))\n",
    "plt.xticks(rotation=45)\n",
    "sns.scatterplot(x='Emiten', y='Return On Asset', \n",
    "                data=df0, s=80)"
   ]
  },
  {
   "cell_type": "code",
   "execution_count": 10,
   "id": "9b69a8f5",
   "metadata": {
    "execution": {
     "iopub.execute_input": "2022-04-17T21:43:09.438412Z",
     "iopub.status.busy": "2022-04-17T21:43:09.436964Z",
     "iopub.status.idle": "2022-04-17T21:43:09.807465Z",
     "shell.execute_reply": "2022-04-17T21:43:09.808032Z",
     "shell.execute_reply.started": "2022-04-17T21:40:32.099967Z"
    },
    "papermill": {
     "duration": 0.451888,
     "end_time": "2022-04-17T21:43:09.808227",
     "exception": false,
     "start_time": "2022-04-17T21:43:09.356339",
     "status": "completed"
    },
    "tags": []
   },
   "outputs": [
    {
     "data": {
      "text/plain": [
       "<AxesSubplot:xlabel='Emiten', ylabel='DER (X)'>"
      ]
     },
     "execution_count": 10,
     "metadata": {},
     "output_type": "execute_result"
    },
    {
     "data": {
      "image/png": "[encoded data removed]",
      "text/plain": [
       "<Figure size 1296x288 with 1 Axes>"
      ]
     },
     "metadata": {
      "needs_background": "light"
     },
     "output_type": "display_data"
    }
   ],
   "source": [
    "plt.figure(figsize=(18, 4))\n",
    "plt.xticks(rotation=45)\n",
    "sns.scatterplot(x='Emiten', y='DER (X)', \n",
    "                data=df0, s=80)"
   ]
  },
  {
   "cell_type": "code",
   "execution_count": 11,
   "id": "7e06aebd",
   "metadata": {
    "execution": {
     "iopub.execute_input": "2022-04-17T21:43:09.950020Z",
     "iopub.status.busy": "2022-04-17T21:43:09.949300Z",
     "iopub.status.idle": "2022-04-17T21:43:10.309220Z",
     "shell.execute_reply": "2022-04-17T21:43:10.309917Z",
     "shell.execute_reply.started": "2022-04-17T21:40:32.542106Z"
    },
    "papermill": {
     "duration": 0.43136,
     "end_time": "2022-04-17T21:43:10.310097",
     "exception": false,
     "start_time": "2022-04-17T21:43:09.878737",
     "status": "completed"
    },
    "tags": []
   },
   "outputs": [
    {
     "data": {
      "text/plain": [
       "<AxesSubplot:xlabel='Emiten', ylabel='Sales Growth'>"
      ]
     },
     "execution_count": 11,
     "metadata": {},
     "output_type": "execute_result"
    },
    {
     "data": {
      "image/png": "[encoded data removed]",
      "text/plain": [
       "<Figure size 1296x288 with 1 Axes>"
      ]
     },
     "metadata": {
      "needs_background": "light"
     },
     "output_type": "display_data"
    }
   ],
   "source": [
    "plt.figure(figsize=(18, 4))\n",
    "plt.xticks(rotation=45)\n",
    "sns.scatterplot(x='Emiten', y='Sales Growth', \n",
    "                data=df0, s=80)"
   ]
  },
  {
   "cell_type": "markdown",
   "id": "d6d4a4d7",
   "metadata": {
    "papermill": {
     "duration": 0.069257,
     "end_time": "2022-04-17T21:43:10.449431",
     "exception": false,
     "start_time": "2022-04-17T21:43:10.380174",
     "status": "completed"
    },
    "tags": []
   },
   "source": [
    "***\n",
    "# 2.2 Outlier\n",
    "Menghapus Outlier menggunakan z-score\n",
    "***"
   ]
  },
  {
   "cell_type": "code",
   "execution_count": 12,
   "id": "64990a05",
   "metadata": {
    "execution": {
     "iopub.execute_input": "2022-04-17T21:43:10.598344Z",
     "iopub.status.busy": "2022-04-17T21:43:10.597610Z",
     "iopub.status.idle": "2022-04-17T21:43:10.600056Z",
     "shell.execute_reply": "2022-04-17T21:43:10.600713Z",
     "shell.execute_reply.started": "2022-04-17T21:40:32.976826Z"
    },
    "papermill": {
     "duration": 0.081668,
     "end_time": "2022-04-17T21:43:10.600900",
     "exception": false,
     "start_time": "2022-04-17T21:43:10.519232",
     "status": "completed"
    },
    "tags": []
   },
   "outputs": [
    {
     "name": "stdout",
     "output_type": "stream",
     "text": [
      "Jumlah baris sebelum memfilter outlier: 32\n",
      "Jumlah baris setelah memfilter outlier: 32\n"
     ]
    }
   ],
   "source": [
    "print(f'Jumlah baris sebelum memfilter outlier: {len(df1)}')\n",
    "\n",
    "filtered_entries = np.array([False] * len(df1))\n",
    "for col in ['Return On Asset']:\n",
    "    zscore = abs(stats.zscore(df1[col]))\n",
    "    filtered_entries = (zscore < 3) | filtered_entries\n",
    "    \n",
    "df1 = df1[filtered_entries]\n",
    "\n",
    "print(f'Jumlah baris setelah memfilter outlier: {len(df1)}')"
   ]
  },
  {
   "cell_type": "code",
   "execution_count": 13,
   "id": "f541dab1",
   "metadata": {
    "execution": {
     "iopub.execute_input": "2022-04-17T21:43:10.743496Z",
     "iopub.status.busy": "2022-04-17T21:43:10.742906Z",
     "iopub.status.idle": "2022-04-17T21:43:10.762673Z",
     "shell.execute_reply": "2022-04-17T21:43:10.763174Z",
     "shell.execute_reply.started": "2022-04-17T21:40:32.990799Z"
    },
    "papermill": {
     "duration": 0.092764,
     "end_time": "2022-04-17T21:43:10.763345",
     "exception": false,
     "start_time": "2022-04-17T21:43:10.670581",
     "status": "completed"
    },
    "tags": []
   },
   "outputs": [
    {
     "data": {
      "text/html": [
       "<div>\n",
       "<style scoped>\n",
       "    .dataframe tbody tr th:only-of-type {\n",
       "        vertical-align: middle;\n",
       "    }\n",
       "\n",
       "    .dataframe tbody tr th {\n",
       "        vertical-align: top;\n",
       "    }\n",
       "\n",
       "    .dataframe thead th {\n",
       "        text-align: right;\n",
       "    }\n",
       "</style>\n",
       "<table border=\"1\" class=\"dataframe\">\n",
       "  <thead>\n",
       "    <tr style=\"text-align: right;\">\n",
       "      <th></th>\n",
       "      <th>DER (X)</th>\n",
       "      <th>Return On Asset</th>\n",
       "      <th>Sales Growth</th>\n",
       "      <th>Category</th>\n",
       "    </tr>\n",
       "  </thead>\n",
       "  <tbody>\n",
       "    <tr>\n",
       "      <th>count</th>\n",
       "      <td>32.000000</td>\n",
       "      <td>32.000000</td>\n",
       "      <td>32.000000</td>\n",
       "      <td>0.0</td>\n",
       "    </tr>\n",
       "    <tr>\n",
       "      <th>mean</th>\n",
       "      <td>1.159688</td>\n",
       "      <td>-0.038750</td>\n",
       "      <td>-0.087338</td>\n",
       "      <td>NaN</td>\n",
       "    </tr>\n",
       "    <tr>\n",
       "      <th>std</th>\n",
       "      <td>1.514624</td>\n",
       "      <td>0.046887</td>\n",
       "      <td>0.428139</td>\n",
       "      <td>NaN</td>\n",
       "    </tr>\n",
       "    <tr>\n",
       "      <th>min</th>\n",
       "      <td>0.000000</td>\n",
       "      <td>-0.120000</td>\n",
       "      <td>-0.935965</td>\n",
       "      <td>NaN</td>\n",
       "    </tr>\n",
       "    <tr>\n",
       "      <th>25%</th>\n",
       "      <td>0.267500</td>\n",
       "      <td>-0.072500</td>\n",
       "      <td>-0.256105</td>\n",
       "      <td>NaN</td>\n",
       "    </tr>\n",
       "    <tr>\n",
       "      <th>50%</th>\n",
       "      <td>0.605000</td>\n",
       "      <td>-0.030000</td>\n",
       "      <td>-0.049366</td>\n",
       "      <td>NaN</td>\n",
       "    </tr>\n",
       "    <tr>\n",
       "      <th>75%</th>\n",
       "      <td>1.487500</td>\n",
       "      <td>0.000000</td>\n",
       "      <td>0.063764</td>\n",
       "      <td>NaN</td>\n",
       "    </tr>\n",
       "    <tr>\n",
       "      <th>max</th>\n",
       "      <td>7.410000</td>\n",
       "      <td>0.060000</td>\n",
       "      <td>1.465314</td>\n",
       "      <td>NaN</td>\n",
       "    </tr>\n",
       "  </tbody>\n",
       "</table>\n",
       "</div>"
      ],
      "text/plain": [
       "         DER (X)  Return On Asset  Sales Growth  Category\n",
       "count  32.000000        32.000000     32.000000       0.0\n",
       "mean    1.159688        -0.038750     -0.087338       NaN\n",
       "std     1.514624         0.046887      0.428139       NaN\n",
       "min     0.000000        -0.120000     -0.935965       NaN\n",
       "25%     0.267500        -0.072500     -0.256105       NaN\n",
       "50%     0.605000        -0.030000     -0.049366       NaN\n",
       "75%     1.487500         0.000000      0.063764       NaN\n",
       "max     7.410000         0.060000      1.465314       NaN"
      ]
     },
     "execution_count": 13,
     "metadata": {},
     "output_type": "execute_result"
    }
   ],
   "source": [
    "df1.describe()"
   ]
  },
  {
   "cell_type": "markdown",
   "id": "3bf79fc0",
   "metadata": {
    "papermill": {
     "duration": 0.070216,
     "end_time": "2022-04-17T21:43:10.904410",
     "exception": false,
     "start_time": "2022-04-17T21:43:10.834194",
     "status": "completed"
    },
    "tags": []
   },
   "source": [
    "***\n",
    "# 2.3 Standardisasi Fitur\n",
    "Melakukan normalisasi data menggunakan Standard Scaler\n",
    "***"
   ]
  },
  {
   "cell_type": "code",
   "execution_count": 14,
   "id": "94047150",
   "metadata": {
    "execution": {
     "iopub.execute_input": "2022-04-17T21:43:11.054129Z",
     "iopub.status.busy": "2022-04-17T21:43:11.053260Z",
     "iopub.status.idle": "2022-04-17T21:43:11.213325Z",
     "shell.execute_reply": "2022-04-17T21:43:11.212761Z",
     "shell.execute_reply.started": "2022-04-17T21:40:33.029678Z"
    },
    "papermill": {
     "duration": 0.238635,
     "end_time": "2022-04-17T21:43:11.213466",
     "exception": false,
     "start_time": "2022-04-17T21:43:10.974831",
     "status": "completed"
    },
    "tags": []
   },
   "outputs": [
    {
     "data": {
      "text/html": [
       "<div>\n",
       "<style scoped>\n",
       "    .dataframe tbody tr th:only-of-type {\n",
       "        vertical-align: middle;\n",
       "    }\n",
       "\n",
       "    .dataframe tbody tr th {\n",
       "        vertical-align: top;\n",
       "    }\n",
       "\n",
       "    .dataframe thead th {\n",
       "        text-align: right;\n",
       "    }\n",
       "</style>\n",
       "<table border=\"1\" class=\"dataframe\">\n",
       "  <thead>\n",
       "    <tr style=\"text-align: right;\">\n",
       "      <th></th>\n",
       "      <th>DER (X)</th>\n",
       "      <th>Return On Asset</th>\n",
       "      <th>Sales Growth</th>\n",
       "    </tr>\n",
       "  </thead>\n",
       "  <tbody>\n",
       "    <tr>\n",
       "      <th>count</th>\n",
       "      <td>3.200000e+01</td>\n",
       "      <td>3.200000e+01</td>\n",
       "      <td>3.200000e+01</td>\n",
       "    </tr>\n",
       "    <tr>\n",
       "      <th>mean</th>\n",
       "      <td>1.040834e-17</td>\n",
       "      <td>1.110223e-16</td>\n",
       "      <td>-3.469447e-17</td>\n",
       "    </tr>\n",
       "    <tr>\n",
       "      <th>std</th>\n",
       "      <td>1.016001e+00</td>\n",
       "      <td>1.016001e+00</td>\n",
       "      <td>1.016001e+00</td>\n",
       "    </tr>\n",
       "    <tr>\n",
       "      <th>min</th>\n",
       "      <td>-7.779115e-01</td>\n",
       "      <td>-1.760619e+00</td>\n",
       "      <td>-2.013845e+00</td>\n",
       "    </tr>\n",
       "    <tr>\n",
       "      <th>25%</th>\n",
       "      <td>-5.984741e-01</td>\n",
       "      <td>-7.313341e-01</td>\n",
       "      <td>-4.004956e-01</td>\n",
       "    </tr>\n",
       "    <tr>\n",
       "      <th>50%</th>\n",
       "      <td>-3.720811e-01</td>\n",
       "      <td>1.896051e-01</td>\n",
       "      <td>9.010959e-02</td>\n",
       "    </tr>\n",
       "    <tr>\n",
       "      <th>75%</th>\n",
       "      <td>2.198947e-01</td>\n",
       "      <td>8.396799e-01</td>\n",
       "      <td>3.585726e-01</td>\n",
       "    </tr>\n",
       "    <tr>\n",
       "      <th>max</th>\n",
       "      <td>4.192672e+00</td>\n",
       "      <td>2.139829e+00</td>\n",
       "      <td>3.684537e+00</td>\n",
       "    </tr>\n",
       "  </tbody>\n",
       "</table>\n",
       "</div>"
      ],
      "text/plain": [
       "            DER (X)  Return On Asset  Sales Growth\n",
       "count  3.200000e+01     3.200000e+01  3.200000e+01\n",
       "mean   1.040834e-17     1.110223e-16 -3.469447e-17\n",
       "std    1.016001e+00     1.016001e+00  1.016001e+00\n",
       "min   -7.779115e-01    -1.760619e+00 -2.013845e+00\n",
       "25%   -5.984741e-01    -7.313341e-01 -4.004956e-01\n",
       "50%   -3.720811e-01     1.896051e-01  9.010959e-02\n",
       "75%    2.198947e-01     8.396799e-01  3.585726e-01\n",
       "max    4.192672e+00     2.139829e+00  3.684537e+00"
      ]
     },
     "execution_count": 14,
     "metadata": {},
     "output_type": "execute_result"
    }
   ],
   "source": [
    "feats = ['DER (X)','Return On Asset','Sales Growth']\n",
    "X = df1[feats].values\n",
    "y = df1['Category'].values\n",
    "\n",
    "from sklearn.preprocessing import StandardScaler\n",
    "X_std = StandardScaler().fit_transform(X)\n",
    "new_df = pd.DataFrame(data = X_std, columns = feats)\n",
    "new_df.describe()"
   ]
  },
  {
   "cell_type": "markdown",
   "id": "6a0e34b5",
   "metadata": {
    "papermill": {
     "duration": 0.070573,
     "end_time": "2022-04-17T21:43:11.355740",
     "exception": false,
     "start_time": "2022-04-17T21:43:11.285167",
     "status": "completed"
    },
    "tags": []
   },
   "source": [
    "***\n",
    "# 2.4 Mencari nilai k (elbow point)\n",
    "Mencari berapakah nilai k (elbow point) yang paling optimal untuk melakukan Clustering\n",
    "***"
   ]
  },
  {
   "cell_type": "code",
   "execution_count": 15,
   "id": "4b34e939",
   "metadata": {
    "execution": {
     "iopub.execute_input": "2022-04-17T21:43:11.504795Z",
     "iopub.status.busy": "2022-04-17T21:43:11.504108Z",
     "iopub.status.idle": "2022-04-17T21:43:24.142375Z",
     "shell.execute_reply": "2022-04-17T21:43:24.141671Z",
     "shell.execute_reply.started": "2022-04-17T21:40:33.061678Z"
    },
    "papermill": {
     "duration": 12.712662,
     "end_time": "2022-04-17T21:43:24.142520",
     "exception": false,
     "start_time": "2022-04-17T21:43:11.429858",
     "status": "completed"
    },
    "tags": []
   },
   "outputs": [
    {
     "data": {
      "text/plain": [
       "[<matplotlib.lines.Line2D at 0x7fced778bf50>]"
      ]
     },
     "execution_count": 15,
     "metadata": {},
     "output_type": "execute_result"
    },
    {
     "data": {
      "image/png": "[encoded data removed]",
      "text/plain": [
       "<Figure size 864x432 with 1 Axes>"
      ]
     },
     "metadata": {
      "needs_background": "light"
     },
     "output_type": "display_data"
    }
   ],
   "source": [
    "from sklearn.cluster import KMeans\n",
    "inertia = []\n",
    "\n",
    "for i in range(1, 32):\n",
    "  kmeans = KMeans(n_clusters=i, init='k-means++', max_iter=300, n_init=10, random_state=0)\n",
    "  kmeans.fit(new_df.values)\n",
    "  inertia.append(kmeans.inertia_)\n",
    "\n",
    "plt.figure(figsize=(12, 6))\n",
    "plt.plot(inertia) #Elbow Method"
   ]
  },
  {
   "cell_type": "markdown",
   "id": "3335335a",
   "metadata": {
    "papermill": {
     "duration": 0.078122,
     "end_time": "2022-04-17T21:43:24.294502",
     "exception": false,
     "start_time": "2022-04-17T21:43:24.216380",
     "status": "completed"
    },
    "tags": []
   },
   "source": [
    "Ternyata clustering paling optimal di 5 cluster (n_cluster = 5)\n",
    "***"
   ]
  },
  {
   "cell_type": "markdown",
   "id": "8e80de74",
   "metadata": {
    "papermill": {
     "duration": 0.080146,
     "end_time": "2022-04-17T21:43:24.452693",
     "exception": false,
     "start_time": "2022-04-17T21:43:24.372547",
     "status": "completed"
    },
    "tags": []
   },
   "source": [
    "***\n",
    "# 2.5 Lakukan K-means, k = 5\n",
    "***"
   ]
  },
  {
   "cell_type": "code",
   "execution_count": 16,
   "id": "e4cf7948",
   "metadata": {
    "execution": {
     "iopub.execute_input": "2022-04-17T21:43:24.627908Z",
     "iopub.status.busy": "2022-04-17T21:43:24.626902Z",
     "iopub.status.idle": "2022-04-17T21:43:24.655924Z",
     "shell.execute_reply": "2022-04-17T21:43:24.656701Z",
     "shell.execute_reply.started": "2022-04-17T21:40:39.141087Z"
    },
    "papermill": {
     "duration": 0.12339,
     "end_time": "2022-04-17T21:43:24.656904",
     "exception": false,
     "start_time": "2022-04-17T21:43:24.533514",
     "status": "completed"
    },
    "tags": []
   },
   "outputs": [
    {
     "data": {
      "text/plain": [
       "KMeans(n_clusters=5, random_state=0)"
      ]
     },
     "execution_count": 16,
     "metadata": {},
     "output_type": "execute_result"
    }
   ],
   "source": [
    "from sklearn.cluster import KMeans\n",
    "kmeans = KMeans(n_clusters=5, init='k-means++', max_iter=300, n_init=10, random_state=0)\n",
    "kmeans.fit(new_df.values)"
   ]
  },
  {
   "cell_type": "code",
   "execution_count": 17,
   "id": "f4d0c265",
   "metadata": {
    "execution": {
     "iopub.execute_input": "2022-04-17T21:43:24.823971Z",
     "iopub.status.busy": "2022-04-17T21:43:24.823073Z",
     "iopub.status.idle": "2022-04-17T21:43:24.826065Z",
     "shell.execute_reply": "2022-04-17T21:43:24.826605Z",
     "shell.execute_reply.started": "2022-04-17T21:40:39.197083Z"
    },
    "papermill": {
     "duration": 0.087667,
     "end_time": "2022-04-17T21:43:24.826877",
     "exception": false,
     "start_time": "2022-04-17T21:43:24.739210",
     "status": "completed"
    },
    "tags": []
   },
   "outputs": [],
   "source": [
    "new_df['target'] = y\n",
    "new_df['fit'] = kmeans.labels_"
   ]
  },
  {
   "cell_type": "markdown",
   "id": "f6ebb943",
   "metadata": {
    "papermill": {
     "duration": 0.077372,
     "end_time": "2022-04-17T21:43:24.983785",
     "exception": false,
     "start_time": "2022-04-17T21:43:24.906413",
     "status": "completed"
    },
    "tags": []
   },
   "source": [
    "***\n",
    "# 2.6 Plot Cluster\n",
    "***"
   ]
  },
  {
   "cell_type": "code",
   "execution_count": 18,
   "id": "e9ae8911",
   "metadata": {
    "execution": {
     "iopub.execute_input": "2022-04-17T21:43:25.168364Z",
     "iopub.status.busy": "2022-04-17T21:43:25.165830Z",
     "iopub.status.idle": "2022-04-17T21:43:25.376399Z",
     "shell.execute_reply": "2022-04-17T21:43:25.376963Z",
     "shell.execute_reply.started": "2022-04-17T21:40:39.206409Z"
    },
    "papermill": {
     "duration": 0.320166,
     "end_time": "2022-04-17T21:43:25.377162",
     "exception": false,
     "start_time": "2022-04-17T21:43:25.056996",
     "status": "completed"
    },
    "tags": []
   },
   "outputs": [
    {
     "data": {
      "image/png": "[encoded data removed]",
      "text/plain": [
       "<Figure size 576x576 with 1 Axes>"
      ]
     },
     "metadata": {
      "needs_background": "light"
     },
     "output_type": "display_data"
    }
   ],
   "source": [
    "plt.rcParams[\"figure.figsize\"] = (8, 8)\n",
    "sns.scatterplot(x='DER (X)', y='Return On Asset', hue=new_df.target.to_list(), data=new_df);"
   ]
  },
  {
   "cell_type": "code",
   "execution_count": 19,
   "id": "b43103b2",
   "metadata": {
    "execution": {
     "iopub.execute_input": "2022-04-17T21:43:25.546374Z",
     "iopub.status.busy": "2022-04-17T21:43:25.545647Z",
     "iopub.status.idle": "2022-04-17T21:43:25.557306Z",
     "shell.execute_reply": "2022-04-17T21:43:25.557922Z",
     "shell.execute_reply.started": "2022-04-17T21:40:39.493240Z"
    },
    "papermill": {
     "duration": 0.098229,
     "end_time": "2022-04-17T21:43:25.558117",
     "exception": false,
     "start_time": "2022-04-17T21:43:25.459888",
     "status": "completed"
    },
    "tags": []
   },
   "outputs": [
    {
     "data": {
      "text/html": [
       "<div>\n",
       "<style scoped>\n",
       "    .dataframe tbody tr th:only-of-type {\n",
       "        vertical-align: middle;\n",
       "    }\n",
       "\n",
       "    .dataframe tbody tr th {\n",
       "        vertical-align: top;\n",
       "    }\n",
       "\n",
       "    .dataframe thead th {\n",
       "        text-align: right;\n",
       "    }\n",
       "</style>\n",
       "<table border=\"1\" class=\"dataframe\">\n",
       "  <thead>\n",
       "    <tr style=\"text-align: right;\">\n",
       "      <th></th>\n",
       "      <th>DER (X)</th>\n",
       "      <th>Return On Asset</th>\n",
       "      <th>Sales Growth</th>\n",
       "      <th>target</th>\n",
       "      <th>fit</th>\n",
       "    </tr>\n",
       "  </thead>\n",
       "  <tbody>\n",
       "    <tr>\n",
       "      <th>0</th>\n",
       "      <td>-0.737664</td>\n",
       "      <td>0.839680</td>\n",
       "      <td>3.684537</td>\n",
       "      <td>NaN</td>\n",
       "      <td>3</td>\n",
       "    </tr>\n",
       "    <tr>\n",
       "      <th>1</th>\n",
       "      <td>-0.294940</td>\n",
       "      <td>0.189605</td>\n",
       "      <td>-0.787808</td>\n",
       "      <td>NaN</td>\n",
       "      <td>2</td>\n",
       "    </tr>\n",
       "    <tr>\n",
       "      <th>2</th>\n",
       "      <td>-0.066870</td>\n",
       "      <td>0.839680</td>\n",
       "      <td>-0.649941</td>\n",
       "      <td>NaN</td>\n",
       "      <td>0</td>\n",
       "    </tr>\n",
       "    <tr>\n",
       "      <th>3</th>\n",
       "      <td>4.192672</td>\n",
       "      <td>-1.327236</td>\n",
       "      <td>-1.576373</td>\n",
       "      <td>NaN</td>\n",
       "      <td>1</td>\n",
       "    </tr>\n",
       "    <tr>\n",
       "      <th>4</th>\n",
       "      <td>1.496080</td>\n",
       "      <td>-0.893853</td>\n",
       "      <td>-0.224640</td>\n",
       "      <td>NaN</td>\n",
       "      <td>4</td>\n",
       "    </tr>\n",
       "  </tbody>\n",
       "</table>\n",
       "</div>"
      ],
      "text/plain": [
       "    DER (X)  Return On Asset  Sales Growth  target  fit\n",
       "0 -0.737664         0.839680      3.684537     NaN    3\n",
       "1 -0.294940         0.189605     -0.787808     NaN    2\n",
       "2 -0.066870         0.839680     -0.649941     NaN    0\n",
       "3  4.192672        -1.327236     -1.576373     NaN    1\n",
       "4  1.496080        -0.893853     -0.224640     NaN    4"
      ]
     },
     "execution_count": 19,
     "metadata": {},
     "output_type": "execute_result"
    }
   ],
   "source": [
    "new_df.head(5)"
   ]
  },
  {
   "cell_type": "markdown",
   "id": "a8a7b4f8",
   "metadata": {
    "papermill": {
     "duration": 0.079574,
     "end_time": "2022-04-17T21:43:25.718689",
     "exception": false,
     "start_time": "2022-04-17T21:43:25.639115",
     "status": "completed"
    },
    "tags": []
   },
   "source": [
    "***\n",
    "Mencocokan nilai fit dengan Category untuk membuat indikator warna yang benar.\n",
    "***"
   ]
  },
  {
   "cell_type": "code",
   "execution_count": 20,
   "id": "0e003691",
   "metadata": {
    "execution": {
     "iopub.execute_input": "2022-04-17T21:43:25.887907Z",
     "iopub.status.busy": "2022-04-17T21:43:25.887083Z",
     "iopub.status.idle": "2022-04-17T21:43:25.900984Z",
     "shell.execute_reply": "2022-04-17T21:43:25.901479Z",
     "shell.execute_reply.started": "2022-04-17T21:40:39.509560Z"
    },
    "papermill": {
     "duration": 0.102691,
     "end_time": "2022-04-17T21:43:25.901700",
     "exception": false,
     "start_time": "2022-04-17T21:43:25.799009",
     "status": "completed"
    },
    "tags": []
   },
   "outputs": [
    {
     "data": {
      "text/html": [
       "<div>\n",
       "<style scoped>\n",
       "    .dataframe tbody tr th:only-of-type {\n",
       "        vertical-align: middle;\n",
       "    }\n",
       "\n",
       "    .dataframe tbody tr th {\n",
       "        vertical-align: top;\n",
       "    }\n",
       "\n",
       "    .dataframe thead th {\n",
       "        text-align: right;\n",
       "    }\n",
       "</style>\n",
       "<table border=\"1\" class=\"dataframe\">\n",
       "  <thead>\n",
       "    <tr style=\"text-align: right;\">\n",
       "      <th></th>\n",
       "      <th>Category</th>\n",
       "      <th>DER (X)</th>\n",
       "      <th>Return On Asset</th>\n",
       "      <th>Sales Growth</th>\n",
       "      <th>target</th>\n",
       "      <th>fit</th>\n",
       "    </tr>\n",
       "  </thead>\n",
       "  <tbody>\n",
       "    <tr>\n",
       "      <th>0</th>\n",
       "      <td>0</td>\n",
       "      <td>-0.737664</td>\n",
       "      <td>0.839680</td>\n",
       "      <td>3.684537</td>\n",
       "      <td>NaN</td>\n",
       "      <td>3</td>\n",
       "    </tr>\n",
       "    <tr>\n",
       "      <th>1</th>\n",
       "      <td>1</td>\n",
       "      <td>-0.294940</td>\n",
       "      <td>0.189605</td>\n",
       "      <td>-0.787808</td>\n",
       "      <td>NaN</td>\n",
       "      <td>2</td>\n",
       "    </tr>\n",
       "    <tr>\n",
       "      <th>2</th>\n",
       "      <td>2</td>\n",
       "      <td>-0.066870</td>\n",
       "      <td>0.839680</td>\n",
       "      <td>-0.649941</td>\n",
       "      <td>NaN</td>\n",
       "      <td>0</td>\n",
       "    </tr>\n",
       "    <tr>\n",
       "      <th>3</th>\n",
       "      <td>4</td>\n",
       "      <td>4.192672</td>\n",
       "      <td>-1.327236</td>\n",
       "      <td>-1.576373</td>\n",
       "      <td>NaN</td>\n",
       "      <td>1</td>\n",
       "    </tr>\n",
       "    <tr>\n",
       "      <th>4</th>\n",
       "      <td>3</td>\n",
       "      <td>1.496080</td>\n",
       "      <td>-0.893853</td>\n",
       "      <td>-0.224640</td>\n",
       "      <td>NaN</td>\n",
       "      <td>4</td>\n",
       "    </tr>\n",
       "  </tbody>\n",
       "</table>\n",
       "</div>"
      ],
      "text/plain": [
       "   Category   DER (X)  Return On Asset  Sales Growth  target  fit\n",
       "0         0 -0.737664         0.839680      3.684537     NaN    3\n",
       "1         1 -0.294940         0.189605     -0.787808     NaN    2\n",
       "2         2 -0.066870         0.839680     -0.649941     NaN    0\n",
       "3         4  4.192672        -1.327236     -1.576373     NaN    1\n",
       "4         3  1.496080        -0.893853     -0.224640     NaN    4"
      ]
     },
     "execution_count": 20,
     "metadata": {},
     "output_type": "execute_result"
    }
   ],
   "source": [
    "new_df.insert(0,\"Category\",np.nan,True)\n",
    "new_df.loc[new_df['fit'] == 0, 'Category'] = 2\n",
    "new_df.loc[new_df['fit'] == 1, 'Category'] = 4\n",
    "new_df.loc[new_df['fit'] == 2, 'Category'] = 1\n",
    "new_df.loc[new_df['fit'] == 3, 'Category'] = 0\n",
    "new_df.loc[new_df['fit'] == 4, 'Category'] = 3\n",
    "new_df['Category'] = new_df['Category'].astype(int)\n",
    "new_df.head(5)"
   ]
  },
  {
   "cell_type": "markdown",
   "id": "943562a6",
   "metadata": {
    "papermill": {
     "duration": 0.078985,
     "end_time": "2022-04-17T21:43:26.061283",
     "exception": false,
     "start_time": "2022-04-17T21:43:25.982298",
     "status": "completed"
    },
    "tags": []
   },
   "source": [
    "***\n",
    "Menyesuaikan nama kolom menjadi (St.) = Standardized\n",
    "***"
   ]
  },
  {
   "cell_type": "code",
   "execution_count": 21,
   "id": "09186827",
   "metadata": {
    "execution": {
     "iopub.execute_input": "2022-04-17T21:43:26.228224Z",
     "iopub.status.busy": "2022-04-17T21:43:26.227516Z",
     "iopub.status.idle": "2022-04-17T21:43:26.238148Z",
     "shell.execute_reply": "2022-04-17T21:43:26.239095Z",
     "shell.execute_reply.started": "2022-04-17T21:40:39.535957Z"
    },
    "papermill": {
     "duration": 0.096237,
     "end_time": "2022-04-17T21:43:26.239372",
     "exception": false,
     "start_time": "2022-04-17T21:43:26.143135",
     "status": "completed"
    },
    "tags": []
   },
   "outputs": [
    {
     "name": "stdout",
     "output_type": "stream",
     "text": [
      "<class 'pandas.core.frame.DataFrame'>\n",
      "RangeIndex: 32 entries, 0 to 31\n",
      "Data columns (total 4 columns):\n",
      " #   Column                 Non-Null Count  Dtype  \n",
      "---  ------                 --------------  -----  \n",
      " 0   Category               32 non-null     int64  \n",
      " 1   DER (St.)              32 non-null     float64\n",
      " 2   Return On Asset (St.)  32 non-null     float64\n",
      " 3   Sales Growth (St.)     32 non-null     float64\n",
      "dtypes: float64(3), int64(1)\n",
      "memory usage: 1.1 KB\n"
     ]
    }
   ],
   "source": [
    "new_df.drop([\"fit\",\"target\"], axis=1, inplace=True)\n",
    "new_df.columns = ['Category','DER (St.)','Return On Asset (St.)', 'Sales Growth (St.)']\n",
    "new_df.info()"
   ]
  },
  {
   "cell_type": "markdown",
   "id": "cad98be0",
   "metadata": {
    "papermill": {
     "duration": 0.076261,
     "end_time": "2022-04-17T21:43:26.393751",
     "exception": false,
     "start_time": "2022-04-17T21:43:26.317490",
     "status": "completed"
    },
    "tags": []
   },
   "source": [
    "***\n",
    "# 2.6.1 3D Scatter Plot\n",
    "***"
   ]
  },
  {
   "cell_type": "code",
   "execution_count": 22,
   "id": "b36689e3",
   "metadata": {
    "execution": {
     "iopub.execute_input": "2022-04-17T21:43:26.548093Z",
     "iopub.status.busy": "2022-04-17T21:43:26.547319Z",
     "iopub.status.idle": "2022-04-17T21:43:27.104883Z",
     "shell.execute_reply": "2022-04-17T21:43:27.105531Z",
     "shell.execute_reply.started": "2022-04-17T21:40:39.561011Z"
    },
    "papermill": {
     "duration": 0.636342,
     "end_time": "2022-04-17T21:43:27.105733",
     "exception": false,
     "start_time": "2022-04-17T21:43:26.469391",
     "status": "completed"
    },
    "tags": []
   },
   "outputs": [
    {
     "data": {
      "image/png": "[encoded data removed]",
      "text/plain": [
       "<Figure size 576x576 with 1 Axes>"
      ]
     },
     "metadata": {
      "needs_background": "light"
     },
     "output_type": "display_data"
    }
   ],
   "source": [
    "from mpl_toolkits.mplot3d import Axes3D\n",
    "\n",
    "fig = plt.figure()\n",
    "ax = fig.add_subplot(111, projection = '3d')\n",
    "\n",
    "\n",
    "x = new_df['DER (St.)']\n",
    "y = new_df['Return On Asset (St.)']\n",
    "z = new_df['Sales Growth (St.)']\n",
    "\n",
    "ax.set_xlabel(\"DER (St.)\")\n",
    "ax.set_ylabel(\"Return On Asset (St.)\")\n",
    "ax.set_zlabel(\"Sales Growth (St.)\")\n",
    "\n",
    "cmap = ListedColormap(sns.color_palette(\"RdYlGn\", 256).as_hex())\n",
    "\n",
    "sc = ax.scatter(x, y, z, s=40, c=new_df['Category'], marker='o', cmap=cmap, alpha=1)\n",
    "plt.legend(*sc.legend_elements(), bbox_to_anchor=(1.05, 1), loc=2)\n",
    "\n",
    "plt.show()"
   ]
  },
  {
   "cell_type": "markdown",
   "id": "1526efe3",
   "metadata": {
    "papermill": {
     "duration": 0.077393,
     "end_time": "2022-04-17T21:43:27.261398",
     "exception": false,
     "start_time": "2022-04-17T21:43:27.184005",
     "status": "completed"
    },
    "tags": []
   },
   "source": [
    "***\n",
    "# 2.6.2 2D Scatter Plot (X vs Z View)\n",
    "***"
   ]
  },
  {
   "cell_type": "code",
   "execution_count": 23,
   "id": "3e1703d0",
   "metadata": {
    "execution": {
     "iopub.execute_input": "2022-04-17T21:43:27.430866Z",
     "iopub.status.busy": "2022-04-17T21:43:27.430134Z",
     "iopub.status.idle": "2022-04-17T21:43:27.763835Z",
     "shell.execute_reply": "2022-04-17T21:43:27.762944Z",
     "shell.execute_reply.started": "2022-04-17T21:40:39.957297Z"
    },
    "papermill": {
     "duration": 0.423495,
     "end_time": "2022-04-17T21:43:27.763993",
     "exception": false,
     "start_time": "2022-04-17T21:43:27.340498",
     "status": "completed"
    },
    "tags": []
   },
   "outputs": [
    {
     "data": {
      "image/png": "[encoded data removed]",
      "text/plain": [
       "<Figure size 576x576 with 1 Axes>"
      ]
     },
     "metadata": {
      "needs_background": "light"
     },
     "output_type": "display_data"
    }
   ],
   "source": [
    "# color palette as dictionary\n",
    "palette = {0:\"tab:red\",\n",
    "           1:\"tab:orange\", \n",
    "           2:\"yellow\",\n",
    "           3:\"lime\",\n",
    "           4:\"darkgreen\"}\n",
    "\n",
    "sns.scatterplot(x='DER (St.)', y='Sales Growth (St.)', \n",
    "                hue='Category', data=new_df, s=80,\n",
    "                palette=palette)\n",
    "plt.title(\"DER vs Sales Growth (Standardisasi)\", fontsize=18, y=1.05)\n",
    "plt.show()"
   ]
  },
  {
   "cell_type": "markdown",
   "id": "c789421b",
   "metadata": {
    "papermill": {
     "duration": 0.080487,
     "end_time": "2022-04-17T21:43:27.923894",
     "exception": false,
     "start_time": "2022-04-17T21:43:27.843407",
     "status": "completed"
    },
    "tags": []
   },
   "source": [
    "***\n",
    "# 2.6.3 2D Scatter Plot (Y vs Z View)\n",
    "***"
   ]
  },
  {
   "cell_type": "code",
   "execution_count": 24,
   "id": "4b100222",
   "metadata": {
    "execution": {
     "iopub.execute_input": "2022-04-17T21:43:28.087251Z",
     "iopub.status.busy": "2022-04-17T21:43:28.086176Z",
     "iopub.status.idle": "2022-04-17T21:43:28.437397Z",
     "shell.execute_reply": "2022-04-17T21:43:28.437888Z",
     "shell.execute_reply.started": "2022-04-17T21:40:40.367126Z"
    },
    "papermill": {
     "duration": 0.43499,
     "end_time": "2022-04-17T21:43:28.438083",
     "exception": false,
     "start_time": "2022-04-17T21:43:28.003093",
     "status": "completed"
    },
    "tags": []
   },
   "outputs": [
    {
     "data": {
      "image/png": "[encoded data removed]",
      "text/plain": [
       "<Figure size 576x576 with 1 Axes>"
      ]
     },
     "metadata": {
      "needs_background": "light"
     },
     "output_type": "display_data"
    }
   ],
   "source": [
    "sns.scatterplot(x='Return On Asset (St.)', y='Sales Growth (St.)', \n",
    "                hue='Category', data=new_df, s=80,\n",
    "                palette=palette)\n",
    "plt.title(\"Return On Asset vs Sales Growth (Standardisasi)\", fontsize=18, y=1.05)\n",
    "plt.show()"
   ]
  },
  {
   "cell_type": "markdown",
   "id": "0652b4cc",
   "metadata": {
    "papermill": {
     "duration": 0.080217,
     "end_time": "2022-04-17T21:43:28.598854",
     "exception": false,
     "start_time": "2022-04-17T21:43:28.518637",
     "status": "completed"
    },
    "tags": []
   },
   "source": [
    "***\n",
    "# 2.6.4 2D Scatter Plot (X vs Y View)\n",
    "***"
   ]
  },
  {
   "cell_type": "code",
   "execution_count": 25,
   "id": "3b7139a6",
   "metadata": {
    "execution": {
     "iopub.execute_input": "2022-04-17T21:43:28.771269Z",
     "iopub.status.busy": "2022-04-17T21:43:28.770203Z",
     "iopub.status.idle": "2022-04-17T21:43:29.112249Z",
     "shell.execute_reply": "2022-04-17T21:43:29.111661Z",
     "shell.execute_reply.started": "2022-04-17T21:40:40.788856Z"
    },
    "papermill": {
     "duration": 0.43306,
     "end_time": "2022-04-17T21:43:29.112392",
     "exception": false,
     "start_time": "2022-04-17T21:43:28.679332",
     "status": "completed"
    },
    "tags": []
   },
   "outputs": [
    {
     "data": {
      "image/png": "[encoded data removed]",
      "text/plain": [
       "<Figure size 576x576 with 1 Axes>"
      ]
     },
     "metadata": {
      "needs_background": "light"
     },
     "output_type": "display_data"
    }
   ],
   "source": [
    "sns.scatterplot(x='DER (St.)', y='Return On Asset (St.)', \n",
    "                hue='Category', data=new_df, s=80,\n",
    "                palette=palette)\n",
    "plt.title(\"DER vs Return On Asset (Standardisasi)\", fontsize=18, y=1.05)\n",
    "plt.show()"
   ]
  },
  {
   "cell_type": "markdown",
   "id": "3fb3a949",
   "metadata": {
    "papermill": {
     "duration": 0.081554,
     "end_time": "2022-04-17T21:43:29.276771",
     "exception": false,
     "start_time": "2022-04-17T21:43:29.195217",
     "status": "completed"
    },
    "tags": []
   },
   "source": [
    "***\n",
    "# 3. Export Result\n",
    "Drop kolom yang tidak digunakan pada dataset Awal **(df0).**\n",
    "***"
   ]
  },
  {
   "cell_type": "code",
   "execution_count": 26,
   "id": "5156f2bd",
   "metadata": {
    "execution": {
     "iopub.execute_input": "2022-04-17T21:43:29.447213Z",
     "iopub.status.busy": "2022-04-17T21:43:29.446448Z",
     "iopub.status.idle": "2022-04-17T21:43:29.451382Z",
     "shell.execute_reply": "2022-04-17T21:43:29.451901Z",
     "shell.execute_reply.started": "2022-04-17T21:40:41.220241Z"
    },
    "papermill": {
     "duration": 0.090727,
     "end_time": "2022-04-17T21:43:29.452091",
     "exception": false,
     "start_time": "2022-04-17T21:43:29.361364",
     "status": "completed"
    },
    "tags": []
   },
   "outputs": [],
   "source": [
    "df0.drop(['Category'], axis=1, inplace=True)"
   ]
  },
  {
   "cell_type": "markdown",
   "id": "1eb75838",
   "metadata": {
    "papermill": {
     "duration": 0.082184,
     "end_time": "2022-04-17T21:43:29.616973",
     "exception": false,
     "start_time": "2022-04-17T21:43:29.534789",
     "status": "completed"
    },
    "tags": []
   },
   "source": [
    "***\n",
    "Gabungkan dataset List Emiten Pariwisata **(dftemp)**, Result **(new_df)**, dan dataset Awal **(df0)** ke dalam satu dataframe.\n",
    "***"
   ]
  },
  {
   "cell_type": "code",
   "execution_count": 27,
   "id": "7bbb0efd",
   "metadata": {
    "execution": {
     "iopub.execute_input": "2022-04-17T21:43:29.784766Z",
     "iopub.status.busy": "2022-04-17T21:43:29.784081Z",
     "iopub.status.idle": "2022-04-17T21:43:29.830062Z",
     "shell.execute_reply": "2022-04-17T21:43:29.830511Z",
     "shell.execute_reply.started": "2022-04-17T21:40:41.228640Z"
    },
    "papermill": {
     "duration": 0.131212,
     "end_time": "2022-04-17T21:43:29.830712",
     "exception": false,
     "start_time": "2022-04-17T21:43:29.699500",
     "status": "completed"
    },
    "tags": []
   },
   "outputs": [
    {
     "data": {
      "text/html": [
       "<div>\n",
       "<style scoped>\n",
       "    .dataframe tbody tr th:only-of-type {\n",
       "        vertical-align: middle;\n",
       "    }\n",
       "\n",
       "    .dataframe tbody tr th {\n",
       "        vertical-align: top;\n",
       "    }\n",
       "\n",
       "    .dataframe thead th {\n",
       "        text-align: right;\n",
       "    }\n",
       "</style>\n",
       "<table border=\"1\" class=\"dataframe\">\n",
       "  <thead>\n",
       "    <tr style=\"text-align: right;\">\n",
       "      <th></th>\n",
       "      <th>Industri</th>\n",
       "      <th>Company</th>\n",
       "      <th>Category</th>\n",
       "      <th>DER (St.)</th>\n",
       "      <th>Return On Asset (St.)</th>\n",
       "      <th>Sales Growth (St.)</th>\n",
       "      <th>Emiten</th>\n",
       "      <th>DER (X)</th>\n",
       "      <th>Return On Asset</th>\n",
       "      <th>Sales Growth</th>\n",
       "    </tr>\n",
       "  </thead>\n",
       "  <tbody>\n",
       "    <tr>\n",
       "      <th>0</th>\n",
       "      <td>Hotel, Restoran &amp; Pariwisata</td>\n",
       "      <td>Andalan Perkasa Abadi Tbk</td>\n",
       "      <td>0</td>\n",
       "      <td>-0.737664</td>\n",
       "      <td>0.839680</td>\n",
       "      <td>3.684537</td>\n",
       "      <td>NASA</td>\n",
       "      <td>0.06</td>\n",
       "      <td>0.00</td>\n",
       "      <td>1.465314</td>\n",
       "    </tr>\n",
       "    <tr>\n",
       "      <th>1</th>\n",
       "      <td>Hotel, Restoran &amp; Pariwisata</td>\n",
       "      <td>Bayu Buana Tbk</td>\n",
       "      <td>1</td>\n",
       "      <td>-0.294940</td>\n",
       "      <td>0.189605</td>\n",
       "      <td>-0.787808</td>\n",
       "      <td>BAYU</td>\n",
       "      <td>0.72</td>\n",
       "      <td>-0.03</td>\n",
       "      <td>-0.419317</td>\n",
       "    </tr>\n",
       "    <tr>\n",
       "      <th>2</th>\n",
       "      <td>Hotel, Restoran &amp; Pariwisata</td>\n",
       "      <td>Bukit Uluwatu Villa Tbk</td>\n",
       "      <td>2</td>\n",
       "      <td>-0.066870</td>\n",
       "      <td>0.839680</td>\n",
       "      <td>-0.649941</td>\n",
       "      <td>BUVA</td>\n",
       "      <td>1.06</td>\n",
       "      <td>0.00</td>\n",
       "      <td>-0.361221</td>\n",
       "    </tr>\n",
       "    <tr>\n",
       "      <th>3</th>\n",
       "      <td>Hotel, Restoran &amp; Pariwisata</td>\n",
       "      <td>Citra Putra Realty Tbk</td>\n",
       "      <td>4</td>\n",
       "      <td>4.192672</td>\n",
       "      <td>-1.327236</td>\n",
       "      <td>-1.576373</td>\n",
       "      <td>CLAY</td>\n",
       "      <td>7.41</td>\n",
       "      <td>-0.10</td>\n",
       "      <td>-0.751615</td>\n",
       "    </tr>\n",
       "    <tr>\n",
       "      <th>4</th>\n",
       "      <td>Hotel, Restoran &amp; Pariwisata</td>\n",
       "      <td>Dafam Property Indonesia Tbk</td>\n",
       "      <td>3</td>\n",
       "      <td>1.496080</td>\n",
       "      <td>-0.893853</td>\n",
       "      <td>-0.224640</td>\n",
       "      <td>DFAM</td>\n",
       "      <td>3.39</td>\n",
       "      <td>-0.08</td>\n",
       "      <td>-0.182000</td>\n",
       "    </tr>\n",
       "  </tbody>\n",
       "</table>\n",
       "</div>"
      ],
      "text/plain": [
       "                       Industri                       Company  Category  \\\n",
       "0  Hotel, Restoran & Pariwisata     Andalan Perkasa Abadi Tbk         0   \n",
       "1  Hotel, Restoran & Pariwisata                Bayu Buana Tbk         1   \n",
       "2  Hotel, Restoran & Pariwisata       Bukit Uluwatu Villa Tbk         2   \n",
       "3  Hotel, Restoran & Pariwisata        Citra Putra Realty Tbk         4   \n",
       "4  Hotel, Restoran & Pariwisata  Dafam Property Indonesia Tbk         3   \n",
       "\n",
       "   DER (St.)  Return On Asset (St.)  Sales Growth (St.) Emiten  DER (X)  \\\n",
       "0  -0.737664               0.839680            3.684537   NASA     0.06   \n",
       "1  -0.294940               0.189605           -0.787808   BAYU     0.72   \n",
       "2  -0.066870               0.839680           -0.649941   BUVA     1.06   \n",
       "3   4.192672              -1.327236           -1.576373   CLAY     7.41   \n",
       "4   1.496080              -0.893853           -0.224640   DFAM     3.39   \n",
       "\n",
       "   Return On Asset  Sales Growth  \n",
       "0             0.00      1.465314  \n",
       "1            -0.03     -0.419317  \n",
       "2             0.00     -0.361221  \n",
       "3            -0.10     -0.751615  \n",
       "4            -0.08     -0.182000  "
      ]
     },
     "execution_count": 27,
     "metadata": {},
     "output_type": "execute_result"
    }
   ],
   "source": [
    "dftemp = pd.read_excel('../input/industri/pariwisata-list.xlsx')\n",
    "df = pd.concat([dftemp, new_df, df0], axis=1)\n",
    "df.head(5)"
   ]
  },
  {
   "cell_type": "markdown",
   "id": "bec74348",
   "metadata": {
    "papermill": {
     "duration": 0.082461,
     "end_time": "2022-04-17T21:43:29.996350",
     "exception": false,
     "start_time": "2022-04-17T21:43:29.913889",
     "status": "completed"
    },
    "tags": []
   },
   "source": [
    "***\n",
    "# 3.1 Export hasil ke Excel\n",
    "***"
   ]
  },
  {
   "cell_type": "code",
   "execution_count": 28,
   "id": "806ce948",
   "metadata": {
    "execution": {
     "iopub.execute_input": "2022-04-17T21:43:30.167733Z",
     "iopub.status.busy": "2022-04-17T21:43:30.167027Z",
     "iopub.status.idle": "2022-04-17T21:43:30.198878Z",
     "shell.execute_reply": "2022-04-17T21:43:30.199403Z",
     "shell.execute_reply.started": "2022-04-17T21:40:41.279135Z"
    },
    "papermill": {
     "duration": 0.118859,
     "end_time": "2022-04-17T21:43:30.199586",
     "exception": false,
     "start_time": "2022-04-17T21:43:30.080727",
     "status": "completed"
    },
    "tags": []
   },
   "outputs": [
    {
     "name": "stdout",
     "output_type": "stream",
     "text": [
      "DataFrame is written successfully to Excel File.\n"
     ]
    }
   ],
   "source": [
    "# membuat objek excel writer\n",
    "writer = pd.ExcelWriter('output.xlsx')\n",
    "\n",
    "# menulis dataframe ke Excel\n",
    "df.to_excel(writer)\n",
    "\n",
    "# menyimpan file Excel\n",
    "writer.save()\n",
    "print('DataFrame is written successfully to Excel File.')"
   ]
  },
  {
   "cell_type": "markdown",
   "id": "addc0d0b",
   "metadata": {
    "papermill": {
     "duration": 0.08316,
     "end_time": "2022-04-17T21:43:30.365879",
     "exception": false,
     "start_time": "2022-04-17T21:43:30.282719",
     "status": "completed"
    },
    "tags": []
   },
   "source": [
    "***\n",
    "# 4. Get Centroid\n",
    "***\n",
    "# 4.1 Jumlah populasi dari setiap Centroid\n",
    "***"
   ]
  },
  {
   "cell_type": "code",
   "execution_count": 29,
   "id": "7e03cf68",
   "metadata": {
    "execution": {
     "iopub.execute_input": "2022-04-17T21:43:30.543783Z",
     "iopub.status.busy": "2022-04-17T21:43:30.535751Z",
     "iopub.status.idle": "2022-04-17T21:43:30.571540Z",
     "shell.execute_reply": "2022-04-17T21:43:30.572535Z",
     "shell.execute_reply.started": "2022-04-17T21:40:41.316293Z"
    },
    "papermill": {
     "duration": 0.123958,
     "end_time": "2022-04-17T21:43:30.572761",
     "exception": false,
     "start_time": "2022-04-17T21:43:30.448803",
     "status": "completed"
    },
    "tags": []
   },
   "outputs": [
    {
     "name": "stdout",
     "output_type": "stream",
     "text": [
      "Frequency of unique values of the said array:\n",
      "[[ 0  1  2  3  4]\n",
      " [ 9  3 12  1  7]]\n"
     ]
    }
   ],
   "source": [
    "clusters = kmeans.fit_predict(X_std)\n",
    "unique_elements, counts_elements = np.unique(clusters, return_counts=True)\n",
    "print(\"Frequency of unique values of the said array:\")\n",
    "print(np.asarray((unique_elements, counts_elements)))"
   ]
  },
  {
   "cell_type": "markdown",
   "id": "5a0a70b6",
   "metadata": {
    "papermill": {
     "duration": 0.083513,
     "end_time": "2022-04-17T21:43:30.741516",
     "exception": false,
     "start_time": "2022-04-17T21:43:30.658003",
     "status": "completed"
    },
    "tags": []
   },
   "source": [
    "***\n",
    "# 4.2 Letak Centroid pada setiap Cluster\n",
    "***"
   ]
  },
  {
   "cell_type": "code",
   "execution_count": 30,
   "id": "1ca6fdf3",
   "metadata": {
    "execution": {
     "iopub.execute_input": "2022-04-17T21:43:30.914879Z",
     "iopub.status.busy": "2022-04-17T21:43:30.914162Z",
     "iopub.status.idle": "2022-04-17T21:43:30.916817Z",
     "shell.execute_reply": "2022-04-17T21:43:30.917316Z",
     "shell.execute_reply.started": "2022-04-17T21:40:41.363915Z"
    },
    "papermill": {
     "duration": 0.091987,
     "end_time": "2022-04-17T21:43:30.917488",
     "exception": false,
     "start_time": "2022-04-17T21:43:30.825501",
     "status": "completed"
    },
    "tags": []
   },
   "outputs": [
    {
     "data": {
      "text/plain": [
       "array([[-0.53344431,  1.15267888,  0.07658094],\n",
       "       [ 2.05060343, -1.61615812, -1.85883706],\n",
       "       [-0.43245254, -0.00902882,  0.04201644],\n",
       "       [-0.73766383,  0.83967992,  3.68453703],\n",
       "       [ 0.65375468, -0.89385281,  0.09979263]])"
      ]
     },
     "execution_count": 30,
     "metadata": {},
     "output_type": "execute_result"
    }
   ],
   "source": [
    "kmeans.cluster_centers_"
   ]
  },
  {
   "cell_type": "code",
   "execution_count": 31,
   "id": "43702369",
   "metadata": {
    "execution": {
     "iopub.execute_input": "2022-04-17T21:43:31.094680Z",
     "iopub.status.busy": "2022-04-17T21:43:31.093944Z",
     "iopub.status.idle": "2022-04-17T21:43:31.324695Z",
     "shell.execute_reply": "2022-04-17T21:43:31.324097Z",
     "shell.execute_reply.started": "2022-04-17T21:40:41.373368Z"
    },
    "papermill": {
     "duration": 0.319841,
     "end_time": "2022-04-17T21:43:31.324841",
     "exception": false,
     "start_time": "2022-04-17T21:43:31.005000",
     "status": "completed"
    },
    "tags": []
   },
   "outputs": [
    {
     "data": {
      "image/png": "[encoded data removed]",
      "text/plain": [
       "<Figure size 576x576 with 1 Axes>"
      ]
     },
     "metadata": {
      "needs_background": "light"
     },
     "output_type": "display_data"
    }
   ],
   "source": [
    "from mpl_toolkits.mplot3d import Axes3D\n",
    "\n",
    "fig = plt.figure()\n",
    "ax = fig.add_subplot(111, projection = '3d')\n",
    "x = [-0.53344431,2.05060343,-0.43245254,-0.73766383,0.65375468]\n",
    "y = [1.15267888,-1.61615812,-0.00902882,0.83967992,-0.89385281]\n",
    "z = [0.07658094,-1.85883706,0.04201644,3.68453703,0.09979263]\n",
    "\n",
    "ax.set_xlabel(\"DER (St.)\")\n",
    "ax.set_ylabel(\"Return On Asset (St.)\")\n",
    "ax.set_zlabel(\"Sales Growth (St.)\")\n",
    "ax.scatter(x, y, z)\n",
    "plt.show()"
   ]
  },
  {
   "cell_type": "markdown",
   "id": "f2cc81d8",
   "metadata": {
    "papermill": {
     "duration": 0.086076,
     "end_time": "2022-04-17T21:43:31.498631",
     "exception": false,
     "start_time": "2022-04-17T21:43:31.412555",
     "status": "completed"
    },
    "tags": []
   },
   "source": [
    "***\n",
    "# 5. Cluster Description\n",
    "***\n",
    "# 5.1 Cluster yang terdampak Sangat Negatif\n",
    "***"
   ]
  },
  {
   "cell_type": "code",
   "execution_count": 32,
   "id": "2f2481e0",
   "metadata": {
    "execution": {
     "iopub.execute_input": "2022-04-17T21:43:31.675062Z",
     "iopub.status.busy": "2022-04-17T21:43:31.674392Z",
     "iopub.status.idle": "2022-04-17T21:43:31.704447Z",
     "shell.execute_reply": "2022-04-17T21:43:31.704958Z",
     "shell.execute_reply.started": "2022-04-17T21:40:41.593461Z"
    },
    "papermill": {
     "duration": 0.119988,
     "end_time": "2022-04-17T21:43:31.705131",
     "exception": false,
     "start_time": "2022-04-17T21:43:31.585143",
     "status": "completed"
    },
    "tags": []
   },
   "outputs": [
    {
     "data": {
      "text/html": [
       "<div>\n",
       "<style scoped>\n",
       "    .dataframe tbody tr th:only-of-type {\n",
       "        vertical-align: middle;\n",
       "    }\n",
       "\n",
       "    .dataframe tbody tr th {\n",
       "        vertical-align: top;\n",
       "    }\n",
       "\n",
       "    .dataframe thead th {\n",
       "        text-align: right;\n",
       "    }\n",
       "</style>\n",
       "<table border=\"1\" class=\"dataframe\">\n",
       "  <thead>\n",
       "    <tr style=\"text-align: right;\">\n",
       "      <th></th>\n",
       "      <th>Category</th>\n",
       "      <th>DER (St.)</th>\n",
       "      <th>Return On Asset (St.)</th>\n",
       "      <th>Sales Growth (St.)</th>\n",
       "      <th>DER (X)</th>\n",
       "      <th>Return On Asset</th>\n",
       "      <th>Sales Growth</th>\n",
       "    </tr>\n",
       "  </thead>\n",
       "  <tbody>\n",
       "    <tr>\n",
       "      <th>count</th>\n",
       "      <td>3.0</td>\n",
       "      <td>3.000000</td>\n",
       "      <td>3.000000</td>\n",
       "      <td>3.000000</td>\n",
       "      <td>3.000000</td>\n",
       "      <td>3.000000</td>\n",
       "      <td>3.000000</td>\n",
       "    </tr>\n",
       "    <tr>\n",
       "      <th>mean</th>\n",
       "      <td>4.0</td>\n",
       "      <td>2.050603</td>\n",
       "      <td>-1.616158</td>\n",
       "      <td>-1.858837</td>\n",
       "      <td>4.216667</td>\n",
       "      <td>-0.113333</td>\n",
       "      <td>-0.870645</td>\n",
       "    </tr>\n",
       "    <tr>\n",
       "      <th>std</th>\n",
       "      <td>0.0</td>\n",
       "      <td>1.989098</td>\n",
       "      <td>0.250214</td>\n",
       "      <td>0.245009</td>\n",
       "      <td>2.965288</td>\n",
       "      <td>0.011547</td>\n",
       "      <td>0.103246</td>\n",
       "    </tr>\n",
       "    <tr>\n",
       "      <th>min</th>\n",
       "      <td>4.0</td>\n",
       "      <td>0.261819</td>\n",
       "      <td>-1.760619</td>\n",
       "      <td>-2.013845</td>\n",
       "      <td>1.550000</td>\n",
       "      <td>-0.120000</td>\n",
       "      <td>-0.935965</td>\n",
       "    </tr>\n",
       "    <tr>\n",
       "      <th>25%</th>\n",
       "      <td>4.0</td>\n",
       "      <td>0.979569</td>\n",
       "      <td>-1.760619</td>\n",
       "      <td>-2.000069</td>\n",
       "      <td>2.620000</td>\n",
       "      <td>-0.120000</td>\n",
       "      <td>-0.930160</td>\n",
       "    </tr>\n",
       "    <tr>\n",
       "      <th>50%</th>\n",
       "      <td>4.0</td>\n",
       "      <td>1.697319</td>\n",
       "      <td>-1.760619</td>\n",
       "      <td>-1.986293</td>\n",
       "      <td>3.690000</td>\n",
       "      <td>-0.120000</td>\n",
       "      <td>-0.924355</td>\n",
       "    </tr>\n",
       "    <tr>\n",
       "      <th>75%</th>\n",
       "      <td>4.0</td>\n",
       "      <td>2.944995</td>\n",
       "      <td>-1.543928</td>\n",
       "      <td>-1.781333</td>\n",
       "      <td>5.550000</td>\n",
       "      <td>-0.110000</td>\n",
       "      <td>-0.837985</td>\n",
       "    </tr>\n",
       "    <tr>\n",
       "      <th>max</th>\n",
       "      <td>4.0</td>\n",
       "      <td>4.192672</td>\n",
       "      <td>-1.327236</td>\n",
       "      <td>-1.576373</td>\n",
       "      <td>7.410000</td>\n",
       "      <td>-0.100000</td>\n",
       "      <td>-0.751615</td>\n",
       "    </tr>\n",
       "  </tbody>\n",
       "</table>\n",
       "</div>"
      ],
      "text/plain": [
       "       Category  DER (St.)  Return On Asset (St.)  Sales Growth (St.)  \\\n",
       "count       3.0   3.000000               3.000000            3.000000   \n",
       "mean        4.0   2.050603              -1.616158           -1.858837   \n",
       "std         0.0   1.989098               0.250214            0.245009   \n",
       "min         4.0   0.261819              -1.760619           -2.013845   \n",
       "25%         4.0   0.979569              -1.760619           -2.000069   \n",
       "50%         4.0   1.697319              -1.760619           -1.986293   \n",
       "75%         4.0   2.944995              -1.543928           -1.781333   \n",
       "max         4.0   4.192672              -1.327236           -1.576373   \n",
       "\n",
       "        DER (X)  Return On Asset  Sales Growth  \n",
       "count  3.000000         3.000000      3.000000  \n",
       "mean   4.216667        -0.113333     -0.870645  \n",
       "std    2.965288         0.011547      0.103246  \n",
       "min    1.550000        -0.120000     -0.935965  \n",
       "25%    2.620000        -0.120000     -0.930160  \n",
       "50%    3.690000        -0.120000     -0.924355  \n",
       "75%    5.550000        -0.110000     -0.837985  \n",
       "max    7.410000        -0.100000     -0.751615  "
      ]
     },
     "execution_count": 32,
     "metadata": {},
     "output_type": "execute_result"
    }
   ],
   "source": [
    "#Highly Negatively Impacted\n",
    "df[df['Category'] == 4].describe() "
   ]
  },
  {
   "cell_type": "code",
   "execution_count": 33,
   "id": "92903898",
   "metadata": {
    "execution": {
     "iopub.execute_input": "2022-04-17T21:43:31.883777Z",
     "iopub.status.busy": "2022-04-17T21:43:31.883087Z",
     "iopub.status.idle": "2022-04-17T21:43:31.897703Z",
     "shell.execute_reply": "2022-04-17T21:43:31.898164Z",
     "shell.execute_reply.started": "2022-04-17T21:40:41.638780Z"
    },
    "papermill": {
     "duration": 0.106296,
     "end_time": "2022-04-17T21:43:31.898340",
     "exception": false,
     "start_time": "2022-04-17T21:43:31.792044",
     "status": "completed"
    },
    "tags": []
   },
   "outputs": [
    {
     "data": {
      "text/html": [
       "<div>\n",
       "<style scoped>\n",
       "    .dataframe tbody tr th:only-of-type {\n",
       "        vertical-align: middle;\n",
       "    }\n",
       "\n",
       "    .dataframe tbody tr th {\n",
       "        vertical-align: top;\n",
       "    }\n",
       "\n",
       "    .dataframe thead th {\n",
       "        text-align: right;\n",
       "    }\n",
       "</style>\n",
       "<table border=\"1\" class=\"dataframe\">\n",
       "  <thead>\n",
       "    <tr style=\"text-align: right;\">\n",
       "      <th></th>\n",
       "      <th>Industri</th>\n",
       "      <th>Company</th>\n",
       "      <th>Category</th>\n",
       "      <th>DER (St.)</th>\n",
       "      <th>Return On Asset (St.)</th>\n",
       "      <th>Sales Growth (St.)</th>\n",
       "      <th>Emiten</th>\n",
       "      <th>DER (X)</th>\n",
       "      <th>Return On Asset</th>\n",
       "      <th>Sales Growth</th>\n",
       "    </tr>\n",
       "  </thead>\n",
       "  <tbody>\n",
       "    <tr>\n",
       "      <th>3</th>\n",
       "      <td>Hotel, Restoran &amp; Pariwisata</td>\n",
       "      <td>Citra Putra Realty Tbk</td>\n",
       "      <td>4</td>\n",
       "      <td>4.192672</td>\n",
       "      <td>-1.327236</td>\n",
       "      <td>-1.576373</td>\n",
       "      <td>CLAY</td>\n",
       "      <td>7.41</td>\n",
       "      <td>-0.10</td>\n",
       "      <td>-0.751615</td>\n",
       "    </tr>\n",
       "    <tr>\n",
       "      <th>5</th>\n",
       "      <td>Hotel, Restoran &amp; Pariwisata</td>\n",
       "      <td>Destinasi Tirta Nusantara Tbk</td>\n",
       "      <td>4</td>\n",
       "      <td>1.697319</td>\n",
       "      <td>-1.760619</td>\n",
       "      <td>-2.013845</td>\n",
       "      <td>PDES</td>\n",
       "      <td>3.69</td>\n",
       "      <td>-0.12</td>\n",
       "      <td>-0.935965</td>\n",
       "    </tr>\n",
       "    <tr>\n",
       "      <th>20</th>\n",
       "      <td>Hotel, Restoran &amp; Pariwisata</td>\n",
       "      <td>Panorama Sentrawisata Tbk</td>\n",
       "      <td>4</td>\n",
       "      <td>0.261819</td>\n",
       "      <td>-1.760619</td>\n",
       "      <td>-1.986293</td>\n",
       "      <td>PANR</td>\n",
       "      <td>1.55</td>\n",
       "      <td>-0.12</td>\n",
       "      <td>-0.924355</td>\n",
       "    </tr>\n",
       "  </tbody>\n",
       "</table>\n",
       "</div>"
      ],
      "text/plain": [
       "                        Industri                        Company  Category  \\\n",
       "3   Hotel, Restoran & Pariwisata         Citra Putra Realty Tbk         4   \n",
       "5   Hotel, Restoran & Pariwisata  Destinasi Tirta Nusantara Tbk         4   \n",
       "20  Hotel, Restoran & Pariwisata      Panorama Sentrawisata Tbk         4   \n",
       "\n",
       "    DER (St.)  Return On Asset (St.)  Sales Growth (St.) Emiten  DER (X)  \\\n",
       "3    4.192672              -1.327236           -1.576373   CLAY     7.41   \n",
       "5    1.697319              -1.760619           -2.013845   PDES     3.69   \n",
       "20   0.261819              -1.760619           -1.986293   PANR     1.55   \n",
       "\n",
       "    Return On Asset  Sales Growth  \n",
       "3             -0.10     -0.751615  \n",
       "5             -0.12     -0.935965  \n",
       "20            -0.12     -0.924355  "
      ]
     },
     "metadata": {},
     "output_type": "display_data"
    }
   ],
   "source": [
    "display(df[df['Category'] == 4])"
   ]
  },
  {
   "cell_type": "markdown",
   "id": "1743bb2d",
   "metadata": {
    "papermill": {
     "duration": 0.08733,
     "end_time": "2022-04-17T21:43:32.073189",
     "exception": false,
     "start_time": "2022-04-17T21:43:31.985859",
     "status": "completed"
    },
    "tags": []
   },
   "source": [
    "***\n",
    "# 5.2 Cluster yang terdampak Negatif\n",
    "***"
   ]
  },
  {
   "cell_type": "code",
   "execution_count": 34,
   "id": "ca9af08e",
   "metadata": {
    "execution": {
     "iopub.execute_input": "2022-04-17T21:43:32.253714Z",
     "iopub.status.busy": "2022-04-17T21:43:32.252970Z",
     "iopub.status.idle": "2022-04-17T21:43:32.281490Z",
     "shell.execute_reply": "2022-04-17T21:43:32.282047Z",
     "shell.execute_reply.started": "2022-04-17T21:40:41.658455Z"
    },
    "papermill": {
     "duration": 0.120095,
     "end_time": "2022-04-17T21:43:32.282231",
     "exception": false,
     "start_time": "2022-04-17T21:43:32.162136",
     "status": "completed"
    },
    "tags": []
   },
   "outputs": [
    {
     "data": {
      "text/html": [
       "<div>\n",
       "<style scoped>\n",
       "    .dataframe tbody tr th:only-of-type {\n",
       "        vertical-align: middle;\n",
       "    }\n",
       "\n",
       "    .dataframe tbody tr th {\n",
       "        vertical-align: top;\n",
       "    }\n",
       "\n",
       "    .dataframe thead th {\n",
       "        text-align: right;\n",
       "    }\n",
       "</style>\n",
       "<table border=\"1\" class=\"dataframe\">\n",
       "  <thead>\n",
       "    <tr style=\"text-align: right;\">\n",
       "      <th></th>\n",
       "      <th>Category</th>\n",
       "      <th>DER (St.)</th>\n",
       "      <th>Return On Asset (St.)</th>\n",
       "      <th>Sales Growth (St.)</th>\n",
       "      <th>DER (X)</th>\n",
       "      <th>Return On Asset</th>\n",
       "      <th>Sales Growth</th>\n",
       "    </tr>\n",
       "  </thead>\n",
       "  <tbody>\n",
       "    <tr>\n",
       "      <th>count</th>\n",
       "      <td>7.0</td>\n",
       "      <td>7.000000</td>\n",
       "      <td>7.000000</td>\n",
       "      <td>7.000000</td>\n",
       "      <td>7.000000</td>\n",
       "      <td>7.000000</td>\n",
       "      <td>7.000000</td>\n",
       "    </tr>\n",
       "    <tr>\n",
       "      <th>mean</th>\n",
       "      <td>3.0</td>\n",
       "      <td>0.653755</td>\n",
       "      <td>-0.893853</td>\n",
       "      <td>0.099793</td>\n",
       "      <td>2.134286</td>\n",
       "      <td>-0.080000</td>\n",
       "      <td>-0.045285</td>\n",
       "    </tr>\n",
       "    <tr>\n",
       "      <th>std</th>\n",
       "      <td>0.0</td>\n",
       "      <td>0.618064</td>\n",
       "      <td>0.625535</td>\n",
       "      <td>0.624185</td>\n",
       "      <td>0.921391</td>\n",
       "      <td>0.028868</td>\n",
       "      <td>0.263029</td>\n",
       "    </tr>\n",
       "    <tr>\n",
       "      <th>min</th>\n",
       "      <td>3.0</td>\n",
       "      <td>0.060581</td>\n",
       "      <td>-1.760619</td>\n",
       "      <td>-0.546831</td>\n",
       "      <td>1.250000</td>\n",
       "      <td>-0.120000</td>\n",
       "      <td>-0.317770</td>\n",
       "    </tr>\n",
       "    <tr>\n",
       "      <th>25%</th>\n",
       "      <td>3.0</td>\n",
       "      <td>0.231634</td>\n",
       "      <td>-1.218890</td>\n",
       "      <td>-0.246913</td>\n",
       "      <td>1.505000</td>\n",
       "      <td>-0.095000</td>\n",
       "      <td>-0.191386</td>\n",
       "    </tr>\n",
       "    <tr>\n",
       "      <th>50%</th>\n",
       "      <td>3.0</td>\n",
       "      <td>0.255111</td>\n",
       "      <td>-0.893853</td>\n",
       "      <td>-0.085232</td>\n",
       "      <td>1.540000</td>\n",
       "      <td>-0.080000</td>\n",
       "      <td>-0.123254</td>\n",
       "    </tr>\n",
       "    <tr>\n",
       "      <th>75%</th>\n",
       "      <td>3.0</td>\n",
       "      <td>1.150621</td>\n",
       "      <td>-0.677161</td>\n",
       "      <td>0.233128</td>\n",
       "      <td>2.875000</td>\n",
       "      <td>-0.070000</td>\n",
       "      <td>0.010902</td>\n",
       "    </tr>\n",
       "    <tr>\n",
       "      <th>max</th>\n",
       "      <td>3.0</td>\n",
       "      <td>1.496080</td>\n",
       "      <td>0.189605</td>\n",
       "      <td>1.358181</td>\n",
       "      <td>3.390000</td>\n",
       "      <td>-0.030000</td>\n",
       "      <td>0.484995</td>\n",
       "    </tr>\n",
       "  </tbody>\n",
       "</table>\n",
       "</div>"
      ],
      "text/plain": [
       "       Category  DER (St.)  Return On Asset (St.)  Sales Growth (St.)  \\\n",
       "count       7.0   7.000000               7.000000            7.000000   \n",
       "mean        3.0   0.653755              -0.893853            0.099793   \n",
       "std         0.0   0.618064               0.625535            0.624185   \n",
       "min         3.0   0.060581              -1.760619           -0.546831   \n",
       "25%         3.0   0.231634              -1.218890           -0.246913   \n",
       "50%         3.0   0.255111              -0.893853           -0.085232   \n",
       "75%         3.0   1.150621              -0.677161            0.233128   \n",
       "max         3.0   1.496080               0.189605            1.358181   \n",
       "\n",
       "        DER (X)  Return On Asset  Sales Growth  \n",
       "count  7.000000         7.000000      7.000000  \n",
       "mean   2.134286        -0.080000     -0.045285  \n",
       "std    0.921391         0.028868      0.263029  \n",
       "min    1.250000        -0.120000     -0.317770  \n",
       "25%    1.505000        -0.095000     -0.191386  \n",
       "50%    1.540000        -0.080000     -0.123254  \n",
       "75%    2.875000        -0.070000      0.010902  \n",
       "max    3.390000        -0.030000      0.484995  "
      ]
     },
     "execution_count": 34,
     "metadata": {},
     "output_type": "execute_result"
    }
   ],
   "source": [
    "#Negatively Impacted\n",
    "df[df['Category'] == 3].describe() "
   ]
  },
  {
   "cell_type": "code",
   "execution_count": 35,
   "id": "63b93fce",
   "metadata": {
    "execution": {
     "iopub.execute_input": "2022-04-17T21:43:32.464947Z",
     "iopub.status.busy": "2022-04-17T21:43:32.464267Z",
     "iopub.status.idle": "2022-04-17T21:43:32.480386Z",
     "shell.execute_reply": "2022-04-17T21:43:32.480881Z",
     "shell.execute_reply.started": "2022-04-17T21:40:41.703528Z"
    },
    "papermill": {
     "duration": 0.108748,
     "end_time": "2022-04-17T21:43:32.481064",
     "exception": false,
     "start_time": "2022-04-17T21:43:32.372316",
     "status": "completed"
    },
    "tags": []
   },
   "outputs": [
    {
     "data": {
      "text/html": [
       "<div>\n",
       "<style scoped>\n",
       "    .dataframe tbody tr th:only-of-type {\n",
       "        vertical-align: middle;\n",
       "    }\n",
       "\n",
       "    .dataframe tbody tr th {\n",
       "        vertical-align: top;\n",
       "    }\n",
       "\n",
       "    .dataframe thead th {\n",
       "        text-align: right;\n",
       "    }\n",
       "</style>\n",
       "<table border=\"1\" class=\"dataframe\">\n",
       "  <thead>\n",
       "    <tr style=\"text-align: right;\">\n",
       "      <th></th>\n",
       "      <th>Industri</th>\n",
       "      <th>Company</th>\n",
       "      <th>Category</th>\n",
       "      <th>DER (St.)</th>\n",
       "      <th>Return On Asset (St.)</th>\n",
       "      <th>Sales Growth (St.)</th>\n",
       "      <th>Emiten</th>\n",
       "      <th>DER (X)</th>\n",
       "      <th>Return On Asset</th>\n",
       "      <th>Sales Growth</th>\n",
       "    </tr>\n",
       "  </thead>\n",
       "  <tbody>\n",
       "    <tr>\n",
       "      <th>4</th>\n",
       "      <td>Hotel, Restoran &amp; Pariwisata</td>\n",
       "      <td>Dafam Property Indonesia Tbk</td>\n",
       "      <td>3</td>\n",
       "      <td>1.496080</td>\n",
       "      <td>-0.893853</td>\n",
       "      <td>-0.224640</td>\n",
       "      <td>DFAM</td>\n",
       "      <td>3.39</td>\n",
       "      <td>-0.08</td>\n",
       "      <td>-0.182000</td>\n",
       "    </tr>\n",
       "    <tr>\n",
       "      <th>7</th>\n",
       "      <td>Hotel, Restoran &amp; Pariwisata</td>\n",
       "      <td>Fast Food Indonesia Tbk</td>\n",
       "      <td>3</td>\n",
       "      <td>0.818578</td>\n",
       "      <td>-0.893853</td>\n",
       "      <td>0.121811</td>\n",
       "      <td>FAST</td>\n",
       "      <td>2.38</td>\n",
       "      <td>-0.08</td>\n",
       "      <td>-0.036007</td>\n",
       "    </tr>\n",
       "    <tr>\n",
       "      <th>9</th>\n",
       "      <td>Hotel, Restoran &amp; Pariwisata</td>\n",
       "      <td>Hotel Fitra International Tbk</td>\n",
       "      <td>3</td>\n",
       "      <td>0.208156</td>\n",
       "      <td>-1.760619</td>\n",
       "      <td>1.358181</td>\n",
       "      <td>FITT</td>\n",
       "      <td>1.47</td>\n",
       "      <td>-0.12</td>\n",
       "      <td>0.484995</td>\n",
       "    </tr>\n",
       "    <tr>\n",
       "      <th>22</th>\n",
       "      <td>Hotel, Restoran &amp; Pariwisata</td>\n",
       "      <td>Pembangunan Jaya Ancol Tbk</td>\n",
       "      <td>3</td>\n",
       "      <td>0.255111</td>\n",
       "      <td>-0.460470</td>\n",
       "      <td>-0.269186</td>\n",
       "      <td>PJAA</td>\n",
       "      <td>1.54</td>\n",
       "      <td>-0.06</td>\n",
       "      <td>-0.200772</td>\n",
       "    </tr>\n",
       "    <tr>\n",
       "      <th>23</th>\n",
       "      <td>Hotel, Restoran &amp; Pariwisata</td>\n",
       "      <td>Pioneerindo Gourmet International Tbk</td>\n",
       "      <td>3</td>\n",
       "      <td>0.255111</td>\n",
       "      <td>-1.327236</td>\n",
       "      <td>0.344445</td>\n",
       "      <td>PTSP</td>\n",
       "      <td>1.54</td>\n",
       "      <td>-0.10</td>\n",
       "      <td>0.057810</td>\n",
       "    </tr>\n",
       "    <tr>\n",
       "      <th>24</th>\n",
       "      <td>Hotel, Restoran &amp; Pariwisata</td>\n",
       "      <td>Pudjiadi &amp; Sons Tbk</td>\n",
       "      <td>3</td>\n",
       "      <td>0.060581</td>\n",
       "      <td>-1.110544</td>\n",
       "      <td>-0.546831</td>\n",
       "      <td>PNSE</td>\n",
       "      <td>1.25</td>\n",
       "      <td>-0.09</td>\n",
       "      <td>-0.317770</td>\n",
       "    </tr>\n",
       "    <tr>\n",
       "      <th>27</th>\n",
       "      <td>Hotel, Restoran &amp; Pariwisata</td>\n",
       "      <td>Saraswati Griya Lestari Tbk</td>\n",
       "      <td>3</td>\n",
       "      <td>1.482664</td>\n",
       "      <td>0.189605</td>\n",
       "      <td>-0.085232</td>\n",
       "      <td>HOTL</td>\n",
       "      <td>3.37</td>\n",
       "      <td>-0.03</td>\n",
       "      <td>-0.123254</td>\n",
       "    </tr>\n",
       "  </tbody>\n",
       "</table>\n",
       "</div>"
      ],
      "text/plain": [
       "                        Industri                                Company  \\\n",
       "4   Hotel, Restoran & Pariwisata           Dafam Property Indonesia Tbk   \n",
       "7   Hotel, Restoran & Pariwisata                Fast Food Indonesia Tbk   \n",
       "9   Hotel, Restoran & Pariwisata          Hotel Fitra International Tbk   \n",
       "22  Hotel, Restoran & Pariwisata             Pembangunan Jaya Ancol Tbk   \n",
       "23  Hotel, Restoran & Pariwisata  Pioneerindo Gourmet International Tbk   \n",
       "24  Hotel, Restoran & Pariwisata                    Pudjiadi & Sons Tbk   \n",
       "27  Hotel, Restoran & Pariwisata            Saraswati Griya Lestari Tbk   \n",
       "\n",
       "    Category  DER (St.)  Return On Asset (St.)  Sales Growth (St.) Emiten  \\\n",
       "4          3   1.496080              -0.893853           -0.224640   DFAM   \n",
       "7          3   0.818578              -0.893853            0.121811   FAST   \n",
       "9          3   0.208156              -1.760619            1.358181   FITT   \n",
       "22         3   0.255111              -0.460470           -0.269186   PJAA   \n",
       "23         3   0.255111              -1.327236            0.344445   PTSP   \n",
       "24         3   0.060581              -1.110544           -0.546831   PNSE   \n",
       "27         3   1.482664               0.189605           -0.085232   HOTL   \n",
       "\n",
       "    DER (X)  Return On Asset  Sales Growth  \n",
       "4      3.39            -0.08     -0.182000  \n",
       "7      2.38            -0.08     -0.036007  \n",
       "9      1.47            -0.12      0.484995  \n",
       "22     1.54            -0.06     -0.200772  \n",
       "23     1.54            -0.10      0.057810  \n",
       "24     1.25            -0.09     -0.317770  \n",
       "27     3.37            -0.03     -0.123254  "
      ]
     },
     "metadata": {},
     "output_type": "display_data"
    }
   ],
   "source": [
    "display(df[df['Category'] == 3])"
   ]
  },
  {
   "cell_type": "markdown",
   "id": "7f2c5bc3",
   "metadata": {
    "papermill": {
     "duration": 0.089526,
     "end_time": "2022-04-17T21:43:32.660267",
     "exception": false,
     "start_time": "2022-04-17T21:43:32.570741",
     "status": "completed"
    },
    "tags": []
   },
   "source": [
    "***\n",
    "# 5.3 Cluster yang tidak terdampak (Netral)\n",
    "***"
   ]
  },
  {
   "cell_type": "code",
   "execution_count": 36,
   "id": "61b299d4",
   "metadata": {
    "execution": {
     "iopub.execute_input": "2022-04-17T21:43:32.842588Z",
     "iopub.status.busy": "2022-04-17T21:43:32.841885Z",
     "iopub.status.idle": "2022-04-17T21:43:32.871059Z",
     "shell.execute_reply": "2022-04-17T21:43:32.871518Z",
     "shell.execute_reply.started": "2022-04-17T21:40:41.731236Z"
    },
    "papermill": {
     "duration": 0.121917,
     "end_time": "2022-04-17T21:43:32.871713",
     "exception": false,
     "start_time": "2022-04-17T21:43:32.749796",
     "status": "completed"
    },
    "tags": []
   },
   "outputs": [
    {
     "data": {
      "text/html": [
       "<div>\n",
       "<style scoped>\n",
       "    .dataframe tbody tr th:only-of-type {\n",
       "        vertical-align: middle;\n",
       "    }\n",
       "\n",
       "    .dataframe tbody tr th {\n",
       "        vertical-align: top;\n",
       "    }\n",
       "\n",
       "    .dataframe thead th {\n",
       "        text-align: right;\n",
       "    }\n",
       "</style>\n",
       "<table border=\"1\" class=\"dataframe\">\n",
       "  <thead>\n",
       "    <tr style=\"text-align: right;\">\n",
       "      <th></th>\n",
       "      <th>Category</th>\n",
       "      <th>DER (St.)</th>\n",
       "      <th>Return On Asset (St.)</th>\n",
       "      <th>Sales Growth (St.)</th>\n",
       "      <th>DER (X)</th>\n",
       "      <th>Return On Asset</th>\n",
       "      <th>Sales Growth</th>\n",
       "    </tr>\n",
       "  </thead>\n",
       "  <tbody>\n",
       "    <tr>\n",
       "      <th>count</th>\n",
       "      <td>9.0</td>\n",
       "      <td>9.000000</td>\n",
       "      <td>9.000000</td>\n",
       "      <td>9.000000</td>\n",
       "      <td>9.000000</td>\n",
       "      <td>9.000000</td>\n",
       "      <td>9.000000</td>\n",
       "    </tr>\n",
       "    <tr>\n",
       "      <th>mean</th>\n",
       "      <td>2.0</td>\n",
       "      <td>-0.533444</td>\n",
       "      <td>1.152679</td>\n",
       "      <td>0.076581</td>\n",
       "      <td>0.364444</td>\n",
       "      <td>0.014444</td>\n",
       "      <td>-0.055067</td>\n",
       "    </tr>\n",
       "    <tr>\n",
       "      <th>std</th>\n",
       "      <td>0.0</td>\n",
       "      <td>0.217417</td>\n",
       "      <td>0.485881</td>\n",
       "      <td>0.559551</td>\n",
       "      <td>0.324118</td>\n",
       "      <td>0.022423</td>\n",
       "      <td>0.235793</td>\n",
       "    </tr>\n",
       "    <tr>\n",
       "      <th>min</th>\n",
       "      <td>2.0</td>\n",
       "      <td>-0.777911</td>\n",
       "      <td>0.622988</td>\n",
       "      <td>-0.985336</td>\n",
       "      <td>0.000000</td>\n",
       "      <td>-0.010000</td>\n",
       "      <td>-0.502555</td>\n",
       "    </tr>\n",
       "    <tr>\n",
       "      <th>25%</th>\n",
       "      <td>2.0</td>\n",
       "      <td>-0.670584</td>\n",
       "      <td>0.839680</td>\n",
       "      <td>0.117517</td>\n",
       "      <td>0.160000</td>\n",
       "      <td>0.000000</td>\n",
       "      <td>-0.037816</td>\n",
       "    </tr>\n",
       "    <tr>\n",
       "      <th>50%</th>\n",
       "      <td>2.0</td>\n",
       "      <td>-0.596797</td>\n",
       "      <td>1.056372</td>\n",
       "      <td>0.207257</td>\n",
       "      <td>0.270000</td>\n",
       "      <td>0.010000</td>\n",
       "      <td>0.000000</td>\n",
       "    </tr>\n",
       "    <tr>\n",
       "      <th>75%</th>\n",
       "      <td>2.0</td>\n",
       "      <td>-0.455930</td>\n",
       "      <td>1.273063</td>\n",
       "      <td>0.211324</td>\n",
       "      <td>0.480000</td>\n",
       "      <td>0.020000</td>\n",
       "      <td>0.001714</td>\n",
       "    </tr>\n",
       "    <tr>\n",
       "      <th>max</th>\n",
       "      <td>2.0</td>\n",
       "      <td>-0.066870</td>\n",
       "      <td>2.139829</td>\n",
       "      <td>0.815640</td>\n",
       "      <td>1.060000</td>\n",
       "      <td>0.060000</td>\n",
       "      <td>0.256370</td>\n",
       "    </tr>\n",
       "  </tbody>\n",
       "</table>\n",
       "</div>"
      ],
      "text/plain": [
       "       Category  DER (St.)  Return On Asset (St.)  Sales Growth (St.)  \\\n",
       "count       9.0   9.000000               9.000000            9.000000   \n",
       "mean        2.0  -0.533444               1.152679            0.076581   \n",
       "std         0.0   0.217417               0.485881            0.559551   \n",
       "min         2.0  -0.777911               0.622988           -0.985336   \n",
       "25%         2.0  -0.670584               0.839680            0.117517   \n",
       "50%         2.0  -0.596797               1.056372            0.207257   \n",
       "75%         2.0  -0.455930               1.273063            0.211324   \n",
       "max         2.0  -0.066870               2.139829            0.815640   \n",
       "\n",
       "        DER (X)  Return On Asset  Sales Growth  \n",
       "count  9.000000         9.000000      9.000000  \n",
       "mean   0.364444         0.014444     -0.055067  \n",
       "std    0.324118         0.022423      0.235793  \n",
       "min    0.000000        -0.010000     -0.502555  \n",
       "25%    0.160000         0.000000     -0.037816  \n",
       "50%    0.270000         0.010000      0.000000  \n",
       "75%    0.480000         0.020000      0.001714  \n",
       "max    1.060000         0.060000      0.256370  "
      ]
     },
     "execution_count": 36,
     "metadata": {},
     "output_type": "execute_result"
    }
   ],
   "source": [
    "#Neutral Impacted\n",
    "df[df['Category'] == 2].describe()"
   ]
  },
  {
   "cell_type": "code",
   "execution_count": 37,
   "id": "b3e656cc",
   "metadata": {
    "execution": {
     "iopub.execute_input": "2022-04-17T21:43:33.055661Z",
     "iopub.status.busy": "2022-04-17T21:43:33.055001Z",
     "iopub.status.idle": "2022-04-17T21:43:33.073816Z",
     "shell.execute_reply": "2022-04-17T21:43:33.073198Z",
     "shell.execute_reply.started": "2022-04-17T21:40:41.773056Z"
    },
    "papermill": {
     "duration": 0.111777,
     "end_time": "2022-04-17T21:43:33.073966",
     "exception": false,
     "start_time": "2022-04-17T21:43:32.962189",
     "status": "completed"
    },
    "tags": []
   },
   "outputs": [
    {
     "data": {
      "text/html": [
       "<div>\n",
       "<style scoped>\n",
       "    .dataframe tbody tr th:only-of-type {\n",
       "        vertical-align: middle;\n",
       "    }\n",
       "\n",
       "    .dataframe tbody tr th {\n",
       "        vertical-align: top;\n",
       "    }\n",
       "\n",
       "    .dataframe thead th {\n",
       "        text-align: right;\n",
       "    }\n",
       "</style>\n",
       "<table border=\"1\" class=\"dataframe\">\n",
       "  <thead>\n",
       "    <tr style=\"text-align: right;\">\n",
       "      <th></th>\n",
       "      <th>Industri</th>\n",
       "      <th>Company</th>\n",
       "      <th>Category</th>\n",
       "      <th>DER (St.)</th>\n",
       "      <th>Return On Asset (St.)</th>\n",
       "      <th>Sales Growth (St.)</th>\n",
       "      <th>Emiten</th>\n",
       "      <th>DER (X)</th>\n",
       "      <th>Return On Asset</th>\n",
       "      <th>Sales Growth</th>\n",
       "    </tr>\n",
       "  </thead>\n",
       "  <tbody>\n",
       "    <tr>\n",
       "      <th>2</th>\n",
       "      <td>Hotel, Restoran &amp; Pariwisata</td>\n",
       "      <td>Bukit Uluwatu Villa Tbk</td>\n",
       "      <td>2</td>\n",
       "      <td>-0.066870</td>\n",
       "      <td>0.839680</td>\n",
       "      <td>-0.649941</td>\n",
       "      <td>BUVA</td>\n",
       "      <td>1.06</td>\n",
       "      <td>0.00</td>\n",
       "      <td>-0.361221</td>\n",
       "    </tr>\n",
       "    <tr>\n",
       "      <th>6</th>\n",
       "      <td>Hotel, Restoran &amp; Pariwisata</td>\n",
       "      <td>Eastparc Hotel Tbk</td>\n",
       "      <td>2</td>\n",
       "      <td>-0.751080</td>\n",
       "      <td>1.706446</td>\n",
       "      <td>0.815640</td>\n",
       "      <td>EAST</td>\n",
       "      <td>0.04</td>\n",
       "      <td>0.04</td>\n",
       "      <td>0.256370</td>\n",
       "    </tr>\n",
       "    <tr>\n",
       "      <th>10</th>\n",
       "      <td>Hotel, Restoran &amp; Pariwisata</td>\n",
       "      <td>Hotel Mandarine Regency Tbk</td>\n",
       "      <td>2</td>\n",
       "      <td>-0.670584</td>\n",
       "      <td>0.622988</td>\n",
       "      <td>0.207257</td>\n",
       "      <td>HOME</td>\n",
       "      <td>0.16</td>\n",
       "      <td>-0.01</td>\n",
       "      <td>0.000000</td>\n",
       "    </tr>\n",
       "    <tr>\n",
       "      <th>13</th>\n",
       "      <td>Hotel, Restoran &amp; Pariwisata</td>\n",
       "      <td>Island Concepts Indonesia Tbk</td>\n",
       "      <td>2</td>\n",
       "      <td>-0.408975</td>\n",
       "      <td>1.056372</td>\n",
       "      <td>0.558253</td>\n",
       "      <td>ICON</td>\n",
       "      <td>0.55</td>\n",
       "      <td>0.01</td>\n",
       "      <td>0.147908</td>\n",
       "    </tr>\n",
       "    <tr>\n",
       "      <th>16</th>\n",
       "      <td>Hotel, Restoran &amp; Pariwisata</td>\n",
       "      <td>Jaya Bersama Indo Tbk</td>\n",
       "      <td>2</td>\n",
       "      <td>-0.469346</td>\n",
       "      <td>1.273063</td>\n",
       "      <td>0.207257</td>\n",
       "      <td>DUCK</td>\n",
       "      <td>0.46</td>\n",
       "      <td>0.02</td>\n",
       "      <td>0.000000</td>\n",
       "    </tr>\n",
       "    <tr>\n",
       "      <th>17</th>\n",
       "      <td>Hotel, Restoran &amp; Pariwisata</td>\n",
       "      <td>Mas Murni Indonesia Tbk</td>\n",
       "      <td>2</td>\n",
       "      <td>-0.596797</td>\n",
       "      <td>0.839680</td>\n",
       "      <td>0.207257</td>\n",
       "      <td>MAMI</td>\n",
       "      <td>0.27</td>\n",
       "      <td>0.00</td>\n",
       "      <td>0.000000</td>\n",
       "    </tr>\n",
       "    <tr>\n",
       "      <th>19</th>\n",
       "      <td>Hotel, Restoran &amp; Pariwisata</td>\n",
       "      <td>MNC Land Tbk</td>\n",
       "      <td>2</td>\n",
       "      <td>-0.603505</td>\n",
       "      <td>1.056372</td>\n",
       "      <td>0.117517</td>\n",
       "      <td>KPIG</td>\n",
       "      <td>0.26</td>\n",
       "      <td>0.01</td>\n",
       "      <td>-0.037816</td>\n",
       "    </tr>\n",
       "    <tr>\n",
       "      <th>21</th>\n",
       "      <td>Hotel, Restoran &amp; Pariwisata</td>\n",
       "      <td>Pembangunan Graha Lestari Indah Tbk</td>\n",
       "      <td>2</td>\n",
       "      <td>-0.455930</td>\n",
       "      <td>2.139829</td>\n",
       "      <td>0.211324</td>\n",
       "      <td>PGLI</td>\n",
       "      <td>0.48</td>\n",
       "      <td>0.06</td>\n",
       "      <td>0.001714</td>\n",
       "    </tr>\n",
       "    <tr>\n",
       "      <th>31</th>\n",
       "      <td>Hotel, Restoran &amp; Pariwisata</td>\n",
       "      <td>Surya Permata Andalan Tbk</td>\n",
       "      <td>2</td>\n",
       "      <td>-0.777911</td>\n",
       "      <td>0.839680</td>\n",
       "      <td>-0.985336</td>\n",
       "      <td>NATO</td>\n",
       "      <td>0.00</td>\n",
       "      <td>0.00</td>\n",
       "      <td>-0.502555</td>\n",
       "    </tr>\n",
       "  </tbody>\n",
       "</table>\n",
       "</div>"
      ],
      "text/plain": [
       "                        Industri                              Company  \\\n",
       "2   Hotel, Restoran & Pariwisata              Bukit Uluwatu Villa Tbk   \n",
       "6   Hotel, Restoran & Pariwisata                   Eastparc Hotel Tbk   \n",
       "10  Hotel, Restoran & Pariwisata          Hotel Mandarine Regency Tbk   \n",
       "13  Hotel, Restoran & Pariwisata        Island Concepts Indonesia Tbk   \n",
       "16  Hotel, Restoran & Pariwisata                Jaya Bersama Indo Tbk   \n",
       "17  Hotel, Restoran & Pariwisata              Mas Murni Indonesia Tbk   \n",
       "19  Hotel, Restoran & Pariwisata                         MNC Land Tbk   \n",
       "21  Hotel, Restoran & Pariwisata  Pembangunan Graha Lestari Indah Tbk   \n",
       "31  Hotel, Restoran & Pariwisata            Surya Permata Andalan Tbk   \n",
       "\n",
       "    Category  DER (St.)  Return On Asset (St.)  Sales Growth (St.) Emiten  \\\n",
       "2          2  -0.066870               0.839680           -0.649941   BUVA   \n",
       "6          2  -0.751080               1.706446            0.815640   EAST   \n",
       "10         2  -0.670584               0.622988            0.207257   HOME   \n",
       "13         2  -0.408975               1.056372            0.558253   ICON   \n",
       "16         2  -0.469346               1.273063            0.207257   DUCK   \n",
       "17         2  -0.596797               0.839680            0.207257   MAMI   \n",
       "19         2  -0.603505               1.056372            0.117517   KPIG   \n",
       "21         2  -0.455930               2.139829            0.211324   PGLI   \n",
       "31         2  -0.777911               0.839680           -0.985336   NATO   \n",
       "\n",
       "    DER (X)  Return On Asset  Sales Growth  \n",
       "2      1.06             0.00     -0.361221  \n",
       "6      0.04             0.04      0.256370  \n",
       "10     0.16            -0.01      0.000000  \n",
       "13     0.55             0.01      0.147908  \n",
       "16     0.46             0.02      0.000000  \n",
       "17     0.27             0.00      0.000000  \n",
       "19     0.26             0.01     -0.037816  \n",
       "21     0.48             0.06      0.001714  \n",
       "31     0.00             0.00     -0.502555  "
      ]
     },
     "metadata": {},
     "output_type": "display_data"
    }
   ],
   "source": [
    "display(df[df['Category'] == 2])"
   ]
  },
  {
   "cell_type": "markdown",
   "id": "bc494169",
   "metadata": {
    "papermill": {
     "duration": 0.093385,
     "end_time": "2022-04-17T21:43:33.259262",
     "exception": false,
     "start_time": "2022-04-17T21:43:33.165877",
     "status": "completed"
    },
    "tags": []
   },
   "source": [
    "***\n",
    "# 5.4 Cluster yang terdampak Positif\n",
    "***"
   ]
  },
  {
   "cell_type": "code",
   "execution_count": 38,
   "id": "32076c23",
   "metadata": {
    "execution": {
     "iopub.execute_input": "2022-04-17T21:43:33.462361Z",
     "iopub.status.busy": "2022-04-17T21:43:33.461686Z",
     "iopub.status.idle": "2022-04-17T21:43:33.480152Z",
     "shell.execute_reply": "2022-04-17T21:43:33.480635Z",
     "shell.execute_reply.started": "2022-04-17T21:40:41.797194Z"
    },
    "papermill": {
     "duration": 0.129507,
     "end_time": "2022-04-17T21:43:33.480825",
     "exception": false,
     "start_time": "2022-04-17T21:43:33.351318",
     "status": "completed"
    },
    "tags": []
   },
   "outputs": [
    {
     "data": {
      "text/html": [
       "<div>\n",
       "<style scoped>\n",
       "    .dataframe tbody tr th:only-of-type {\n",
       "        vertical-align: middle;\n",
       "    }\n",
       "\n",
       "    .dataframe tbody tr th {\n",
       "        vertical-align: top;\n",
       "    }\n",
       "\n",
       "    .dataframe thead th {\n",
       "        text-align: right;\n",
       "    }\n",
       "</style>\n",
       "<table border=\"1\" class=\"dataframe\">\n",
       "  <thead>\n",
       "    <tr style=\"text-align: right;\">\n",
       "      <th></th>\n",
       "      <th>Category</th>\n",
       "      <th>DER (St.)</th>\n",
       "      <th>Return On Asset (St.)</th>\n",
       "      <th>Sales Growth (St.)</th>\n",
       "      <th>DER (X)</th>\n",
       "      <th>Return On Asset</th>\n",
       "      <th>Sales Growth</th>\n",
       "    </tr>\n",
       "  </thead>\n",
       "  <tbody>\n",
       "    <tr>\n",
       "      <th>count</th>\n",
       "      <td>12.0</td>\n",
       "      <td>12.000000</td>\n",
       "      <td>12.000000</td>\n",
       "      <td>12.000000</td>\n",
       "      <td>12.000000</td>\n",
       "      <td>12.000000</td>\n",
       "      <td>12.000000</td>\n",
       "    </tr>\n",
       "    <tr>\n",
       "      <th>mean</th>\n",
       "      <td>1.0</td>\n",
       "      <td>-0.432453</td>\n",
       "      <td>-0.009029</td>\n",
       "      <td>0.042016</td>\n",
       "      <td>0.515000</td>\n",
       "      <td>-0.039167</td>\n",
       "      <td>-0.069632</td>\n",
       "    </tr>\n",
       "    <tr>\n",
       "      <th>std</th>\n",
       "      <td>0.0</td>\n",
       "      <td>0.204655</td>\n",
       "      <td>0.374847</td>\n",
       "      <td>0.518056</td>\n",
       "      <td>0.305093</td>\n",
       "      <td>0.017299</td>\n",
       "      <td>0.218307</td>\n",
       "    </tr>\n",
       "    <tr>\n",
       "      <th>min</th>\n",
       "      <td>1.0</td>\n",
       "      <td>-0.737664</td>\n",
       "      <td>-0.677161</td>\n",
       "      <td>-0.787808</td>\n",
       "      <td>0.060000</td>\n",
       "      <td>-0.070000</td>\n",
       "      <td>-0.419317</td>\n",
       "    </tr>\n",
       "    <tr>\n",
       "      <th>25%</th>\n",
       "      <td>1.0</td>\n",
       "      <td>-0.544811</td>\n",
       "      <td>-0.135432</td>\n",
       "      <td>-0.272892</td>\n",
       "      <td>0.347500</td>\n",
       "      <td>-0.045000</td>\n",
       "      <td>-0.202333</td>\n",
       "    </tr>\n",
       "    <tr>\n",
       "      <th>50%</th>\n",
       "      <td>1.0</td>\n",
       "      <td>-0.412329</td>\n",
       "      <td>0.189605</td>\n",
       "      <td>-0.003312</td>\n",
       "      <td>0.545000</td>\n",
       "      <td>-0.030000</td>\n",
       "      <td>-0.088733</td>\n",
       "    </tr>\n",
       "    <tr>\n",
       "      <th>75%</th>\n",
       "      <td>1.0</td>\n",
       "      <td>-0.330156</td>\n",
       "      <td>0.189605</td>\n",
       "      <td>0.427135</td>\n",
       "      <td>0.667500</td>\n",
       "      <td>-0.030000</td>\n",
       "      <td>0.092656</td>\n",
       "    </tr>\n",
       "    <tr>\n",
       "      <th>max</th>\n",
       "      <td>1.0</td>\n",
       "      <td>-0.086994</td>\n",
       "      <td>0.406297</td>\n",
       "      <td>0.926658</td>\n",
       "      <td>1.030000</td>\n",
       "      <td>-0.020000</td>\n",
       "      <td>0.303153</td>\n",
       "    </tr>\n",
       "  </tbody>\n",
       "</table>\n",
       "</div>"
      ],
      "text/plain": [
       "       Category  DER (St.)  Return On Asset (St.)  Sales Growth (St.)  \\\n",
       "count      12.0  12.000000              12.000000           12.000000   \n",
       "mean        1.0  -0.432453              -0.009029            0.042016   \n",
       "std         0.0   0.204655               0.374847            0.518056   \n",
       "min         1.0  -0.737664              -0.677161           -0.787808   \n",
       "25%         1.0  -0.544811              -0.135432           -0.272892   \n",
       "50%         1.0  -0.412329               0.189605           -0.003312   \n",
       "75%         1.0  -0.330156               0.189605            0.427135   \n",
       "max         1.0  -0.086994               0.406297            0.926658   \n",
       "\n",
       "         DER (X)  Return On Asset  Sales Growth  \n",
       "count  12.000000        12.000000     12.000000  \n",
       "mean    0.515000        -0.039167     -0.069632  \n",
       "std     0.305093         0.017299      0.218307  \n",
       "min     0.060000        -0.070000     -0.419317  \n",
       "25%     0.347500        -0.045000     -0.202333  \n",
       "50%     0.545000        -0.030000     -0.088733  \n",
       "75%     0.667500        -0.030000      0.092656  \n",
       "max     1.030000        -0.020000      0.303153  "
      ]
     },
     "execution_count": 38,
     "metadata": {},
     "output_type": "execute_result"
    }
   ],
   "source": [
    "#Positively Impacted\n",
    "df[df['Category'] == 1].describe()"
   ]
  },
  {
   "cell_type": "code",
   "execution_count": 39,
   "id": "1f224b02",
   "metadata": {
    "execution": {
     "iopub.execute_input": "2022-04-17T21:43:33.685398Z",
     "iopub.status.busy": "2022-04-17T21:43:33.677283Z",
     "iopub.status.idle": "2022-04-17T21:43:33.688142Z",
     "shell.execute_reply": "2022-04-17T21:43:33.688742Z",
     "shell.execute_reply.started": "2022-04-17T21:40:41.841266Z"
    },
    "papermill": {
     "duration": 0.11588,
     "end_time": "2022-04-17T21:43:33.688928",
     "exception": false,
     "start_time": "2022-04-17T21:43:33.573048",
     "status": "completed"
    },
    "tags": []
   },
   "outputs": [
    {
     "data": {
      "text/html": [
       "<div>\n",
       "<style scoped>\n",
       "    .dataframe tbody tr th:only-of-type {\n",
       "        vertical-align: middle;\n",
       "    }\n",
       "\n",
       "    .dataframe tbody tr th {\n",
       "        vertical-align: top;\n",
       "    }\n",
       "\n",
       "    .dataframe thead th {\n",
       "        text-align: right;\n",
       "    }\n",
       "</style>\n",
       "<table border=\"1\" class=\"dataframe\">\n",
       "  <thead>\n",
       "    <tr style=\"text-align: right;\">\n",
       "      <th></th>\n",
       "      <th>Industri</th>\n",
       "      <th>Company</th>\n",
       "      <th>Category</th>\n",
       "      <th>DER (St.)</th>\n",
       "      <th>Return On Asset (St.)</th>\n",
       "      <th>Sales Growth (St.)</th>\n",
       "      <th>Emiten</th>\n",
       "      <th>DER (X)</th>\n",
       "      <th>Return On Asset</th>\n",
       "      <th>Sales Growth</th>\n",
       "    </tr>\n",
       "  </thead>\n",
       "  <tbody>\n",
       "    <tr>\n",
       "      <th>1</th>\n",
       "      <td>Hotel, Restoran &amp; Pariwisata</td>\n",
       "      <td>Bayu Buana Tbk</td>\n",
       "      <td>1</td>\n",
       "      <td>-0.294940</td>\n",
       "      <td>0.189605</td>\n",
       "      <td>-0.787808</td>\n",
       "      <td>BAYU</td>\n",
       "      <td>0.72</td>\n",
       "      <td>-0.03</td>\n",
       "      <td>-0.419317</td>\n",
       "    </tr>\n",
       "    <tr>\n",
       "      <th>8</th>\n",
       "      <td>Hotel, Restoran &amp; Pariwisata</td>\n",
       "      <td>Graha Andrasentra Propertindo Tbk</td>\n",
       "      <td>1</td>\n",
       "      <td>-0.341895</td>\n",
       "      <td>0.189605</td>\n",
       "      <td>-0.069327</td>\n",
       "      <td>JGLE</td>\n",
       "      <td>0.65</td>\n",
       "      <td>-0.03</td>\n",
       "      <td>-0.116552</td>\n",
       "    </tr>\n",
       "    <tr>\n",
       "      <th>11</th>\n",
       "      <td>Hotel, Restoran &amp; Pariwisata</td>\n",
       "      <td>Hotel Sahid Jaya International Tbk</td>\n",
       "      <td>1</td>\n",
       "      <td>-0.362019</td>\n",
       "      <td>0.189605</td>\n",
       "      <td>0.926658</td>\n",
       "      <td>SHID</td>\n",
       "      <td>0.62</td>\n",
       "      <td>-0.03</td>\n",
       "      <td>0.303153</td>\n",
       "    </tr>\n",
       "    <tr>\n",
       "      <th>12</th>\n",
       "      <td>Hotel, Restoran &amp; Pariwisata</td>\n",
       "      <td>Indonesian Paradise Property Tbk</td>\n",
       "      <td>1</td>\n",
       "      <td>-0.442514</td>\n",
       "      <td>-0.677161</td>\n",
       "      <td>-0.142784</td>\n",
       "      <td>INPP</td>\n",
       "      <td>0.50</td>\n",
       "      <td>-0.07</td>\n",
       "      <td>-0.147506</td>\n",
       "    </tr>\n",
       "    <tr>\n",
       "      <th>14</th>\n",
       "      <td>Hotel, Restoran &amp; Pariwisata</td>\n",
       "      <td>Jakarta International Hotels &amp; Development Tbk</td>\n",
       "      <td>1</td>\n",
       "      <td>-0.502886</td>\n",
       "      <td>0.189605</td>\n",
       "      <td>-0.641091</td>\n",
       "      <td>JIHD</td>\n",
       "      <td>0.41</td>\n",
       "      <td>-0.03</td>\n",
       "      <td>-0.357491</td>\n",
       "    </tr>\n",
       "    <tr>\n",
       "      <th>15</th>\n",
       "      <td>Hotel, Restoran &amp; Pariwisata</td>\n",
       "      <td>Jakarta Setiabudi Internasional Tbk</td>\n",
       "      <td>1</td>\n",
       "      <td>-0.086994</td>\n",
       "      <td>0.189605</td>\n",
       "      <td>-0.351717</td>\n",
       "      <td>JSPT</td>\n",
       "      <td>1.03</td>\n",
       "      <td>-0.03</td>\n",
       "      <td>-0.235550</td>\n",
       "    </tr>\n",
       "    <tr>\n",
       "      <th>18</th>\n",
       "      <td>Hotel, Restoran &amp; Pariwisata</td>\n",
       "      <td>Menteng Heritage Realty Tbk</td>\n",
       "      <td>1</td>\n",
       "      <td>-0.509594</td>\n",
       "      <td>0.189605</td>\n",
       "      <td>0.640295</td>\n",
       "      <td>HRME</td>\n",
       "      <td>0.40</td>\n",
       "      <td>-0.03</td>\n",
       "      <td>0.182480</td>\n",
       "    </tr>\n",
       "    <tr>\n",
       "      <th>25</th>\n",
       "      <td>Hotel, Restoran &amp; Pariwisata</td>\n",
       "      <td>Red Planet Indonesia Tbk</td>\n",
       "      <td>1</td>\n",
       "      <td>-0.650461</td>\n",
       "      <td>-0.460470</td>\n",
       "      <td>0.400955</td>\n",
       "      <td>PSKT</td>\n",
       "      <td>0.19</td>\n",
       "      <td>-0.06</td>\n",
       "      <td>0.081624</td>\n",
       "    </tr>\n",
       "    <tr>\n",
       "      <th>26</th>\n",
       "      <td>Hotel, Restoran &amp; Pariwisata</td>\n",
       "      <td>Sanurhasta Mitra Tbk</td>\n",
       "      <td>1</td>\n",
       "      <td>-0.737664</td>\n",
       "      <td>-0.677161</td>\n",
       "      <td>-0.246617</td>\n",
       "      <td>MINA</td>\n",
       "      <td>0.06</td>\n",
       "      <td>-0.07</td>\n",
       "      <td>-0.191261</td>\n",
       "    </tr>\n",
       "    <tr>\n",
       "      <th>28</th>\n",
       "      <td>Hotel, Restoran &amp; Pariwisata</td>\n",
       "      <td>Sarimelati Kencana Tbk</td>\n",
       "      <td>1</td>\n",
       "      <td>-0.160781</td>\n",
       "      <td>0.189605</td>\n",
       "      <td>0.062702</td>\n",
       "      <td>PZZA</td>\n",
       "      <td>0.92</td>\n",
       "      <td>-0.03</td>\n",
       "      <td>-0.060915</td>\n",
       "    </tr>\n",
       "    <tr>\n",
       "      <th>29</th>\n",
       "      <td>Hotel, Restoran &amp; Pariwisata</td>\n",
       "      <td>Satria Mega Kencana Tbk</td>\n",
       "      <td>1</td>\n",
       "      <td>-0.382143</td>\n",
       "      <td>-0.027086</td>\n",
       "      <td>0.505675</td>\n",
       "      <td>SOTS</td>\n",
       "      <td>0.59</td>\n",
       "      <td>-0.04</td>\n",
       "      <td>0.125752</td>\n",
       "    </tr>\n",
       "    <tr>\n",
       "      <th>30</th>\n",
       "      <td>Hotel, Restoran &amp; Pariwisata</td>\n",
       "      <td>Sinergi Megah Internusa Tbk</td>\n",
       "      <td>1</td>\n",
       "      <td>-0.717540</td>\n",
       "      <td>0.406297</td>\n",
       "      <td>0.207257</td>\n",
       "      <td>NUSA</td>\n",
       "      <td>0.09</td>\n",
       "      <td>-0.02</td>\n",
       "      <td>0.000000</td>\n",
       "    </tr>\n",
       "  </tbody>\n",
       "</table>\n",
       "</div>"
      ],
      "text/plain": [
       "                        Industri  \\\n",
       "1   Hotel, Restoran & Pariwisata   \n",
       "8   Hotel, Restoran & Pariwisata   \n",
       "11  Hotel, Restoran & Pariwisata   \n",
       "12  Hotel, Restoran & Pariwisata   \n",
       "14  Hotel, Restoran & Pariwisata   \n",
       "15  Hotel, Restoran & Pariwisata   \n",
       "18  Hotel, Restoran & Pariwisata   \n",
       "25  Hotel, Restoran & Pariwisata   \n",
       "26  Hotel, Restoran & Pariwisata   \n",
       "28  Hotel, Restoran & Pariwisata   \n",
       "29  Hotel, Restoran & Pariwisata   \n",
       "30  Hotel, Restoran & Pariwisata   \n",
       "\n",
       "                                           Company  Category  DER (St.)  \\\n",
       "1                                   Bayu Buana Tbk         1  -0.294940   \n",
       "8                Graha Andrasentra Propertindo Tbk         1  -0.341895   \n",
       "11              Hotel Sahid Jaya International Tbk         1  -0.362019   \n",
       "12                Indonesian Paradise Property Tbk         1  -0.442514   \n",
       "14  Jakarta International Hotels & Development Tbk         1  -0.502886   \n",
       "15             Jakarta Setiabudi Internasional Tbk         1  -0.086994   \n",
       "18                     Menteng Heritage Realty Tbk         1  -0.509594   \n",
       "25                        Red Planet Indonesia Tbk         1  -0.650461   \n",
       "26                            Sanurhasta Mitra Tbk         1  -0.737664   \n",
       "28                          Sarimelati Kencana Tbk         1  -0.160781   \n",
       "29                         Satria Mega Kencana Tbk         1  -0.382143   \n",
       "30                     Sinergi Megah Internusa Tbk         1  -0.717540   \n",
       "\n",
       "    Return On Asset (St.)  Sales Growth (St.) Emiten  DER (X)  \\\n",
       "1                0.189605           -0.787808   BAYU     0.72   \n",
       "8                0.189605           -0.069327   JGLE     0.65   \n",
       "11               0.189605            0.926658   SHID     0.62   \n",
       "12              -0.677161           -0.142784   INPP     0.50   \n",
       "14               0.189605           -0.641091   JIHD     0.41   \n",
       "15               0.189605           -0.351717   JSPT     1.03   \n",
       "18               0.189605            0.640295   HRME     0.40   \n",
       "25              -0.460470            0.400955   PSKT     0.19   \n",
       "26              -0.677161           -0.246617   MINA     0.06   \n",
       "28               0.189605            0.062702   PZZA     0.92   \n",
       "29              -0.027086            0.505675   SOTS     0.59   \n",
       "30               0.406297            0.207257   NUSA     0.09   \n",
       "\n",
       "    Return On Asset  Sales Growth  \n",
       "1             -0.03     -0.419317  \n",
       "8             -0.03     -0.116552  \n",
       "11            -0.03      0.303153  \n",
       "12            -0.07     -0.147506  \n",
       "14            -0.03     -0.357491  \n",
       "15            -0.03     -0.235550  \n",
       "18            -0.03      0.182480  \n",
       "25            -0.06      0.081624  \n",
       "26            -0.07     -0.191261  \n",
       "28            -0.03     -0.060915  \n",
       "29            -0.04      0.125752  \n",
       "30            -0.02      0.000000  "
      ]
     },
     "metadata": {},
     "output_type": "display_data"
    }
   ],
   "source": [
    "display(df[df['Category'] == 1])"
   ]
  },
  {
   "cell_type": "markdown",
   "id": "460d80ea",
   "metadata": {
    "papermill": {
     "duration": 0.092288,
     "end_time": "2022-04-17T21:43:33.874476",
     "exception": false,
     "start_time": "2022-04-17T21:43:33.782188",
     "status": "completed"
    },
    "tags": []
   },
   "source": [
    "***\n",
    "# 5.5 Cluster yang terdampak Sangat Positif\n",
    "***"
   ]
  },
  {
   "cell_type": "code",
   "execution_count": 40,
   "id": "23a7185e",
   "metadata": {
    "execution": {
     "iopub.execute_input": "2022-04-17T21:43:34.071987Z",
     "iopub.status.busy": "2022-04-17T21:43:34.064268Z",
     "iopub.status.idle": "2022-04-17T21:43:34.096836Z",
     "shell.execute_reply": "2022-04-17T21:43:34.097325Z",
     "shell.execute_reply.started": "2022-04-17T21:40:41.867283Z"
    },
    "papermill": {
     "duration": 0.130532,
     "end_time": "2022-04-17T21:43:34.097507",
     "exception": false,
     "start_time": "2022-04-17T21:43:33.966975",
     "status": "completed"
    },
    "tags": []
   },
   "outputs": [
    {
     "data": {
      "text/html": [
       "<div>\n",
       "<style scoped>\n",
       "    .dataframe tbody tr th:only-of-type {\n",
       "        vertical-align: middle;\n",
       "    }\n",
       "\n",
       "    .dataframe tbody tr th {\n",
       "        vertical-align: top;\n",
       "    }\n",
       "\n",
       "    .dataframe thead th {\n",
       "        text-align: right;\n",
       "    }\n",
       "</style>\n",
       "<table border=\"1\" class=\"dataframe\">\n",
       "  <thead>\n",
       "    <tr style=\"text-align: right;\">\n",
       "      <th></th>\n",
       "      <th>Category</th>\n",
       "      <th>DER (St.)</th>\n",
       "      <th>Return On Asset (St.)</th>\n",
       "      <th>Sales Growth (St.)</th>\n",
       "      <th>DER (X)</th>\n",
       "      <th>Return On Asset</th>\n",
       "      <th>Sales Growth</th>\n",
       "    </tr>\n",
       "  </thead>\n",
       "  <tbody>\n",
       "    <tr>\n",
       "      <th>count</th>\n",
       "      <td>1.0</td>\n",
       "      <td>1.000000</td>\n",
       "      <td>1.00000</td>\n",
       "      <td>1.000000</td>\n",
       "      <td>1.00</td>\n",
       "      <td>1.0</td>\n",
       "      <td>1.000000</td>\n",
       "    </tr>\n",
       "    <tr>\n",
       "      <th>mean</th>\n",
       "      <td>0.0</td>\n",
       "      <td>-0.737664</td>\n",
       "      <td>0.83968</td>\n",
       "      <td>3.684537</td>\n",
       "      <td>0.06</td>\n",
       "      <td>0.0</td>\n",
       "      <td>1.465314</td>\n",
       "    </tr>\n",
       "    <tr>\n",
       "      <th>std</th>\n",
       "      <td>NaN</td>\n",
       "      <td>NaN</td>\n",
       "      <td>NaN</td>\n",
       "      <td>NaN</td>\n",
       "      <td>NaN</td>\n",
       "      <td>NaN</td>\n",
       "      <td>NaN</td>\n",
       "    </tr>\n",
       "    <tr>\n",
       "      <th>min</th>\n",
       "      <td>0.0</td>\n",
       "      <td>-0.737664</td>\n",
       "      <td>0.83968</td>\n",
       "      <td>3.684537</td>\n",
       "      <td>0.06</td>\n",
       "      <td>0.0</td>\n",
       "      <td>1.465314</td>\n",
       "    </tr>\n",
       "    <tr>\n",
       "      <th>25%</th>\n",
       "      <td>0.0</td>\n",
       "      <td>-0.737664</td>\n",
       "      <td>0.83968</td>\n",
       "      <td>3.684537</td>\n",
       "      <td>0.06</td>\n",
       "      <td>0.0</td>\n",
       "      <td>1.465314</td>\n",
       "    </tr>\n",
       "    <tr>\n",
       "      <th>50%</th>\n",
       "      <td>0.0</td>\n",
       "      <td>-0.737664</td>\n",
       "      <td>0.83968</td>\n",
       "      <td>3.684537</td>\n",
       "      <td>0.06</td>\n",
       "      <td>0.0</td>\n",
       "      <td>1.465314</td>\n",
       "    </tr>\n",
       "    <tr>\n",
       "      <th>75%</th>\n",
       "      <td>0.0</td>\n",
       "      <td>-0.737664</td>\n",
       "      <td>0.83968</td>\n",
       "      <td>3.684537</td>\n",
       "      <td>0.06</td>\n",
       "      <td>0.0</td>\n",
       "      <td>1.465314</td>\n",
       "    </tr>\n",
       "    <tr>\n",
       "      <th>max</th>\n",
       "      <td>0.0</td>\n",
       "      <td>-0.737664</td>\n",
       "      <td>0.83968</td>\n",
       "      <td>3.684537</td>\n",
       "      <td>0.06</td>\n",
       "      <td>0.0</td>\n",
       "      <td>1.465314</td>\n",
       "    </tr>\n",
       "  </tbody>\n",
       "</table>\n",
       "</div>"
      ],
      "text/plain": [
       "       Category  DER (St.)  Return On Asset (St.)  Sales Growth (St.)  \\\n",
       "count       1.0   1.000000                1.00000            1.000000   \n",
       "mean        0.0  -0.737664                0.83968            3.684537   \n",
       "std         NaN        NaN                    NaN                 NaN   \n",
       "min         0.0  -0.737664                0.83968            3.684537   \n",
       "25%         0.0  -0.737664                0.83968            3.684537   \n",
       "50%         0.0  -0.737664                0.83968            3.684537   \n",
       "75%         0.0  -0.737664                0.83968            3.684537   \n",
       "max         0.0  -0.737664                0.83968            3.684537   \n",
       "\n",
       "       DER (X)  Return On Asset  Sales Growth  \n",
       "count     1.00              1.0      1.000000  \n",
       "mean      0.06              0.0      1.465314  \n",
       "std        NaN              NaN           NaN  \n",
       "min       0.06              0.0      1.465314  \n",
       "25%       0.06              0.0      1.465314  \n",
       "50%       0.06              0.0      1.465314  \n",
       "75%       0.06              0.0      1.465314  \n",
       "max       0.06              0.0      1.465314  "
      ]
     },
     "execution_count": 40,
     "metadata": {},
     "output_type": "execute_result"
    }
   ],
   "source": [
    "#Highly Positively Impacted\n",
    "df[df['Category'] == 0].describe()"
   ]
  },
  {
   "cell_type": "code",
   "execution_count": 41,
   "id": "9be6ad6f",
   "metadata": {
    "execution": {
     "iopub.execute_input": "2022-04-17T21:43:34.292914Z",
     "iopub.status.busy": "2022-04-17T21:43:34.291826Z",
     "iopub.status.idle": "2022-04-17T21:43:34.303910Z",
     "shell.execute_reply": "2022-04-17T21:43:34.304368Z",
     "shell.execute_reply.started": "2022-04-17T21:40:41.914542Z"
    },
    "papermill": {
     "duration": 0.112295,
     "end_time": "2022-04-17T21:43:34.304545",
     "exception": false,
     "start_time": "2022-04-17T21:43:34.192250",
     "status": "completed"
    },
    "tags": []
   },
   "outputs": [
    {
     "data": {
      "text/html": [
       "<div>\n",
       "<style scoped>\n",
       "    .dataframe tbody tr th:only-of-type {\n",
       "        vertical-align: middle;\n",
       "    }\n",
       "\n",
       "    .dataframe tbody tr th {\n",
       "        vertical-align: top;\n",
       "    }\n",
       "\n",
       "    .dataframe thead th {\n",
       "        text-align: right;\n",
       "    }\n",
       "</style>\n",
       "<table border=\"1\" class=\"dataframe\">\n",
       "  <thead>\n",
       "    <tr style=\"text-align: right;\">\n",
       "      <th></th>\n",
       "      <th>Industri</th>\n",
       "      <th>Company</th>\n",
       "      <th>Category</th>\n",
       "      <th>DER (St.)</th>\n",
       "      <th>Return On Asset (St.)</th>\n",
       "      <th>Sales Growth (St.)</th>\n",
       "      <th>Emiten</th>\n",
       "      <th>DER (X)</th>\n",
       "      <th>Return On Asset</th>\n",
       "      <th>Sales Growth</th>\n",
       "    </tr>\n",
       "  </thead>\n",
       "  <tbody>\n",
       "    <tr>\n",
       "      <th>0</th>\n",
       "      <td>Hotel, Restoran &amp; Pariwisata</td>\n",
       "      <td>Andalan Perkasa Abadi Tbk</td>\n",
       "      <td>0</td>\n",
       "      <td>-0.737664</td>\n",
       "      <td>0.83968</td>\n",
       "      <td>3.684537</td>\n",
       "      <td>NASA</td>\n",
       "      <td>0.06</td>\n",
       "      <td>0.0</td>\n",
       "      <td>1.465314</td>\n",
       "    </tr>\n",
       "  </tbody>\n",
       "</table>\n",
       "</div>"
      ],
      "text/plain": [
       "                       Industri                    Company  Category  \\\n",
       "0  Hotel, Restoran & Pariwisata  Andalan Perkasa Abadi Tbk         0   \n",
       "\n",
       "   DER (St.)  Return On Asset (St.)  Sales Growth (St.) Emiten  DER (X)  \\\n",
       "0  -0.737664                0.83968            3.684537   NASA     0.06   \n",
       "\n",
       "   Return On Asset  Sales Growth  \n",
       "0              0.0      1.465314  "
      ]
     },
     "metadata": {},
     "output_type": "display_data"
    }
   ],
   "source": [
    "display(df[df['Category'] == 0])"
   ]
  }
 ],
 "metadata": {
  "kernelspec": {
   "display_name": "Python 3",
   "language": "python",
   "name": "python3"
  },
  "language_info": {
   "codemirror_mode": {
    "name": "ipython",
    "version": 3
   },
   "file_extension": ".py",
   "mimetype": "text/x-python",
   "name": "python",
   "nbconvert_exporter": "python",
   "pygments_lexer": "ipython3",
   "version": "3.7.12"
  },
  "papermill": {
   "default_parameters": {},
   "duration": 53.758583,
   "end_time": "2022-04-17T21:43:35.311953",
   "environment_variables": {},
   "exception": null,
   "input_path": "__notebook__.ipynb",
   "output_path": "__notebook__.ipynb",
   "parameters": {},
   "start_time": "2022-04-17T21:42:41.553370",
   "version": "2.3.3"
  }
 },
 "nbformat": 4,
 "nbformat_minor": 5
}
